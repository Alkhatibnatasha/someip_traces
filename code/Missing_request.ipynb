{
 "cells": [
  {
   "cell_type": "code",
   "execution_count": 1,
   "metadata": {},
   "outputs": [],
   "source": [
    "import pandas as pd\n",
    "import numpy as np\n",
    "import tensorflow as tf\n",
    "from sklearn.model_selection import StratifiedKFold\n",
    "from tensorflow.keras.layers import Dropout\n",
    "from sklearn.metrics import confusion_matrix\n",
    "from sklearn.metrics import confusion_matrix, ConfusionMatrixDisplay\n",
    "from sklearn.metrics import roc_curve\n",
    "from matplotlib import pyplot\n",
    "from tensorflow.keras.layers import Dropout\n",
    "# Matplotlib is a comprehensive library for creating static, animated, and interactive visualizations in Python.\n",
    "import matplotlib.pyplot as plt\n",
    "import seaborn as sns \n",
    "# Split arrays or matrices into random train and test subsets\n",
    "from sklearn.model_selection import train_test_split"
   ]
  },
  {
   "cell_type": "code",
   "execution_count": 175,
   "metadata": {},
   "outputs": [],
   "source": [
    "def minmax(file):\n",
    "    d=pd.read_csv(file)\n",
    "    d.drop(columns=[\"Unnamed: 0\"],inplace=True)\n",
    "    print(d.label.value_counts())\n",
    "\n",
    "    d1=d.drop(columns=[\"length\",'Type', 'timesensitive', 'client_min',\n",
    "           'client_max', 'client_resendMin', 'client_resendMax', 'errorRate',\n",
    "           'server_min', 'server_max', 'client_mac', 'client_ip',\n",
    "           'client_send_port', 'client_rec_port', 'server_mac', 'server_ip',\n",
    "           'server_send_port', 'server_rec_port'])\n",
    "\n",
    "    packets_dum=pd.get_dummies(d1, columns=[ \"session_id\",'msg_type', 'iface_ver', 'proto_ver', 'retcode',\n",
    "           'ip_src', 'ip_dst', 'proto', 'sport', 'dport', 'mac_src', 'mac_dst',\n",
    "           'service_id', 'method_id','Client_id'])\n",
    "\n",
    "\n",
    "    #packets_dum.drop(columns=[\"iface_ver_3\",\"retcode_10\",\"ip_src_10.1.0.9\",\"mac_src_02:9b:bb:bb:bb:bb\"],inplace=True)\n",
    "\n",
    "    packets_dum[\"Label\"]=packets_dum[\"label\"]\n",
    "\n",
    "    packets_dum.drop(columns=\"label\",inplace=True)\n",
    "    packets_dum.head()\n",
    "\n",
    "    X=packets_dum.iloc[:,0:-1]\n",
    "    y=packets_dum.iloc[:,-1]\n",
    "\n",
    "    X=X.astype(float)\n",
    "    X=X.to_numpy()\n",
    "    y=y.astype(int)\n",
    "    y=y.to_numpy()\n",
    "\n",
    "    print(X.shape)\n",
    "\n",
    "    window=8\n",
    "    X_new=np.zeros((X.shape[0],window*2+1,X.shape[1]))\n",
    "    X_new.shape\n",
    "\n",
    "    for i in range(len(X_new)):\n",
    "        if(i-window<0):\n",
    "            X_new[i]=np.concatenate((np.zeros((abs(i-window),X_new.shape[2])),X[0:i+window+1]))\n",
    "        else:\n",
    "            if(((i-window)>=0) & ((i+window)<=len(X)-1)):\n",
    "                X_new[i]=X[i-window:i+window+1]\n",
    "            else:\n",
    "                X_new[i]=np.concatenate((X[(i-window):len(X)],np.zeros(((i+window-len(X)+1),X_new.shape[2]))))\n",
    "\n",
    "    y_new=y\n",
    "\n",
    "\n",
    "    index_minority=np.where(y_new==1)\n",
    "\n",
    "    count=0\n",
    "    X_minority=np.zeros((len(np.where(y_new==1)[0]),X_new.shape[1],X_new.shape[2]))\n",
    "    for i in index_minority[0]:\n",
    "        X_minority[count]=X_new[i]\n",
    "        count+=1\n",
    "\n",
    "    index_majority=np.where(y_new==0)\n",
    "\n",
    "    count=0\n",
    "    X_majority=np.zeros((len(np.where(y_new==0)[0]),X_new.shape[1],X_new.shape[2]))\n",
    "    for i in index_majority[0]:\n",
    "        X_majority[count]=X_new[i]\n",
    "        count+=1\n",
    "\n",
    "\n",
    "\n",
    "    #print(X1_minority)\n",
    "\n",
    "    #print(X1_majority)\n",
    "\n",
    "    #Xmax=resample(X1_majority,replace=False,n_samples=len(X1_minority),random_state=123)\n",
    "\n",
    "\n",
    "    return X_minority,X_majority"
   ]
  },
  {
   "cell_type": "code",
   "execution_count": 176,
   "metadata": {},
   "outputs": [
    {
     "name": "stdout",
     "output_type": "stream",
     "text": [
      "0    1280\n",
      "1      94\n",
      "Name: label, dtype: int64\n",
      "(1374, 195)\n"
     ]
    }
   ],
   "source": [
    "Xmin1,Xmax1=minmax(\"missing_request3.csv\")"
   ]
  },
  {
   "cell_type": "code",
   "execution_count": 177,
   "metadata": {},
   "outputs": [
    {
     "name": "stdout",
     "output_type": "stream",
     "text": [
      "0    1248\n",
      "1     121\n",
      "Name: label, dtype: int64\n",
      "(1369, 195)\n"
     ]
    }
   ],
   "source": [
    "Xmin2,Xmax2=minmax(\"missing_request4.csv\")"
   ]
  },
  {
   "cell_type": "code",
   "execution_count": 178,
   "metadata": {},
   "outputs": [
    {
     "name": "stdout",
     "output_type": "stream",
     "text": [
      "0    1318\n",
      "1      93\n",
      "Name: label, dtype: int64\n",
      "(1411, 195)\n"
     ]
    }
   ],
   "source": [
    "Xmin3,Xmax3=minmax(\"missing_request5.csv\")"
   ]
  },
  {
   "cell_type": "code",
   "execution_count": 179,
   "metadata": {},
   "outputs": [
    {
     "name": "stdout",
     "output_type": "stream",
     "text": [
      "0    1228\n",
      "1     110\n",
      "Name: label, dtype: int64\n",
      "(1338, 195)\n"
     ]
    }
   ],
   "source": [
    "Xmin4,Xmax4=minmax(\"missing_request6.csv\")"
   ]
  },
  {
   "cell_type": "code",
   "execution_count": 180,
   "metadata": {},
   "outputs": [
    {
     "name": "stdout",
     "output_type": "stream",
     "text": [
      "0    1240\n",
      "1     109\n",
      "Name: label, dtype: int64\n",
      "(1349, 195)\n"
     ]
    }
   ],
   "source": [
    "Xmin5,Xmax5=minmax(\"missing_request7.csv\")"
   ]
  },
  {
   "cell_type": "code",
   "execution_count": 181,
   "metadata": {},
   "outputs": [
    {
     "name": "stdout",
     "output_type": "stream",
     "text": [
      "0    1250\n",
      "1     122\n",
      "Name: label, dtype: int64\n",
      "(1372, 195)\n"
     ]
    }
   ],
   "source": [
    "Xmin6,Xmax6=minmax(\"missing_request8.csv\")"
   ]
  },
  {
   "cell_type": "code",
   "execution_count": 182,
   "metadata": {},
   "outputs": [
    {
     "name": "stdout",
     "output_type": "stream",
     "text": [
      "0    1274\n",
      "1     118\n",
      "Name: label, dtype: int64\n",
      "(1392, 195)\n"
     ]
    }
   ],
   "source": [
    "Xmin7,Xmax7=minmax(\"missing_request9.csv\")"
   ]
  },
  {
   "cell_type": "code",
   "execution_count": 183,
   "metadata": {},
   "outputs": [
    {
     "name": "stdout",
     "output_type": "stream",
     "text": [
      "0    1226\n",
      "1     110\n",
      "Name: label, dtype: int64\n",
      "(1336, 195)\n"
     ]
    }
   ],
   "source": [
    "Xmin8,Xmax8=minmax(\"missing_request10.csv\")"
   ]
  },
  {
   "cell_type": "code",
   "execution_count": 184,
   "metadata": {},
   "outputs": [],
   "source": [
    "X_abnormal=np.concatenate((Xmin1,Xmin2,Xmin3,Xmin4,Xmin5,Xmin6,Xmin7,Xmin8))\n",
    "Y_abnormal=np.ones((len(X_abnormal),1))\n",
    "\n",
    "X_normal=np.concatenate((Xmax1,Xmax2,Xmax3,Xmax4,Xmax5,Xmax6,Xmax7,Xmax8))\n",
    "#X_normal=resample(Xmax,replace=False,n_samples=len(X_abnormal),random_state=10)\n",
    "\n",
    "#X_total=np.concatenate((X_normal,X_abnormal),axis=0)\n",
    "#Y_total=np.concatenate((np.zeros((len(X_normal),1)),np.ones((len(X_abnormal),1))))\n",
    "\n",
    "X_total=np.concatenate((X_normal,X_abnormal),axis=0)\n",
    "Y_total=np.concatenate((np.zeros((len(X_normal),1)),np.ones((len(X_abnormal),1))))"
   ]
  },
  {
   "cell_type": "code",
   "execution_count": 199,
   "metadata": {},
   "outputs": [],
   "source": [
    "import pickle \n",
    "\n",
    "with open('X_total.pickle', 'wb') as f:\n",
    "    pickle.dump(X_total, f)\n",
    "with open('Y_total.pickle', 'wb') as f:\n",
    "    pickle.dump(Y_total, f)"
   ]
  },
  {
   "cell_type": "code",
   "execution_count": 200,
   "metadata": {},
   "outputs": [
    {
     "data": {
      "text/plain": [
       "(10941, 1)"
      ]
     },
     "execution_count": 200,
     "metadata": {},
     "output_type": "execute_result"
    }
   ],
   "source": [
    "Y_total.shape"
   ]
  },
  {
   "cell_type": "code",
   "execution_count": 201,
   "metadata": {},
   "outputs": [
    {
     "data": {
      "text/plain": [
       "8.015720683666942"
      ]
     },
     "execution_count": 201,
     "metadata": {},
     "output_type": "execute_result"
    }
   ],
   "source": [
    "len(X_abnormal)/(len(X_total))*100"
   ]
  },
  {
   "cell_type": "code",
   "execution_count": null,
   "metadata": {},
   "outputs": [],
   "source": [
    "X_train, X_test, y_train, y_test = train_test_split(X_total, Y_total, test_size=0.1, random_state=42,stratify=Y_total)\n",
    "import random as rn \n",
    "\n",
    "\n",
    "model=tf.keras.Sequential()\n",
    "model.add(tf.keras.layers.LSTM(128,input_shape=[X_train.shape[1],X_train.shape[2]],return_sequences=True))\n",
    "model.add(tf.keras.layers.Dropout(0.2))\n",
    "model.add(tf.keras.layers.LSTM(64))\n",
    "model.add(tf.keras.layers.Dropout(0.2))\n",
    "model.add(tf.keras.layers.Dense(1,activation=\"sigmoid\"))\n",
    "model.compile(loss='binary_crossentropy',optimizer='adam')\n",
    "model.fit(X_train,y_train,epochs=10,batch_size=30,validation_data=(X_test,y_test))\n",
    "\n",
    "# Multiclass\n",
    "y_pred = model.predict_classes(X_test)\n",
    "cm=confusion_matrix(y_test, y_pred)\n",
    "\n",
    "disp = ConfusionMatrixDisplay(confusion_matrix=cm)    \n",
    "disp.plot() \n",
    "\n",
    "# Multiclass\n",
    "y_pred = model.predict_classes(X_train)\n",
    "cm=confusion_matrix(y_train, y_pred)\n",
    "\n",
    "disp = ConfusionMatrixDisplay(confusion_matrix=cm)    \n",
    "disp.plot() "
   ]
  },
  {
   "cell_type": "code",
   "execution_count": 187,
   "metadata": {},
   "outputs": [
    {
     "name": "stdout",
     "output_type": "stream",
     "text": [
      "Weight for class 0: 0.54\n",
      "Weight for class 1: 6.24\n"
     ]
    }
   ],
   "source": [
    "# Scaling by total/2 helps keep the loss to a similar magnitude.\n",
    "# The sum of the weights of all examples stays the same.\n",
    "weight_for_0 = (1 / len(X_normal)) * (len(X_total) / 2.0)\n",
    "weight_for_1 = (1 / len(X_abnormal)) * (len(X_total) / 2.0)\n",
    "\n",
    "class_weight = {0: weight_for_0, 1: weight_for_1}\n",
    "\n",
    "print('Weight for class 0: {:.2f}'.format(weight_for_0))\n",
    "print('Weight for class 1: {:.2f}'.format(weight_for_1))"
   ]
  },
  {
   "cell_type": "code",
   "execution_count": 188,
   "metadata": {},
   "outputs": [],
   "source": [
    "from tensorflow import keras\n",
    "\n",
    "early_stopping = tf.keras.callbacks.EarlyStopping(\n",
    "    monitor='val_prc', \n",
    "    verbose=1,\n",
    "    patience=10,\n",
    "    mode='max',\n",
    "    restore_best_weights=True)\n",
    "\n",
    "METRICS = [\n",
    "      keras.metrics.TruePositives(name='tp'),\n",
    "      keras.metrics.FalsePositives(name='fp'),\n",
    "      keras.metrics.TrueNegatives(name='tn'),\n",
    "      keras.metrics.FalseNegatives(name='fn'), \n",
    "      keras.metrics.BinaryAccuracy(name='accuracy'),\n",
    "      keras.metrics.Precision(name='precision'),\n",
    "      keras.metrics.Recall(name='recall'),\n",
    "      keras.metrics.AUC(name='auc'),\n",
    "      keras.metrics.AUC(name='prc', curve='PR'), # precision-recall curve\n",
    "]"
   ]
  },
  {
   "cell_type": "code",
   "execution_count": 209,
   "metadata": {},
   "outputs": [
    {
     "name": "stdout",
     "output_type": "stream",
     "text": [
      "Epoch 1/100\n",
      "5/5 [==============================] - 6s 1s/step - loss: 0.7029 - tp: 373.0000 - fp: 4101.0000 - tn: 5085.0000 - fn: 425.0000 - accuracy: 0.5467 - precision: 0.0834 - recall: 0.4674 - auc: 0.5309 - prc: 0.0877 - val_loss: 0.5515 - val_tp: 0.0000e+00 - val_fp: 0.0000e+00 - val_tn: 1007.0000 - val_fn: 88.0000 - val_accuracy: 0.9196 - val_precision: 0.0000e+00 - val_recall: 0.0000e+00 - val_auc: 0.6593 - val_prc: 0.1408\n",
      "Epoch 2/100\n",
      "5/5 [==============================] - 4s 879ms/step - loss: 0.6872 - tp: 287.0000 - fp: 2390.0000 - tn: 6667.0000 - fn: 502.0000 - accuracy: 0.7063 - precision: 0.1072 - recall: 0.3638 - auc: 0.5688 - prc: 0.1004 - val_loss: 0.7868 - val_tp: 87.0000 - val_fp: 914.0000 - val_tn: 93.0000 - val_fn: 1.0000 - val_accuracy: 0.1644 - val_precision: 0.0869 - val_recall: 0.9886 - val_auc: 0.6573 - val_prc: 0.1391\n",
      "Epoch 3/100\n",
      "5/5 [==============================] - 4s 853ms/step - loss: 0.6804 - tp: 672.0000 - fp: 6402.0000 - tn: 2655.0000 - fn: 117.0000 - accuracy: 0.3379 - precision: 0.0950 - recall: 0.8517 - auc: 0.6112 - prc: 0.1101 - val_loss: 0.6134 - val_tp: 40.0000 - val_fp: 258.0000 - val_tn: 749.0000 - val_fn: 48.0000 - val_accuracy: 0.7205 - val_precision: 0.1342 - val_recall: 0.4545 - val_auc: 0.6673 - val_prc: 0.1399\n",
      "Epoch 4/100\n",
      "5/5 [==============================] - 4s 806ms/step - loss: 0.6693 - tp: 330.0000 - fp: 2431.0000 - tn: 6626.0000 - fn: 459.0000 - accuracy: 0.7065 - precision: 0.1195 - recall: 0.4183 - auc: 0.6339 - prc: 0.1182 - val_loss: 0.7148 - val_tp: 64.0000 - val_fp: 529.0000 - val_tn: 478.0000 - val_fn: 24.0000 - val_accuracy: 0.4950 - val_precision: 0.1079 - val_recall: 0.7273 - val_auc: 0.6727 - val_prc: 0.1447\n",
      "Epoch 5/100\n",
      "5/5 [==============================] - 4s 789ms/step - loss: 0.6649 - tp: 553.0000 - fp: 4564.0000 - tn: 4493.0000 - fn: 236.0000 - accuracy: 0.5125 - precision: 0.1081 - recall: 0.7009 - auc: 0.6335 - prc: 0.1158 - val_loss: 0.6182 - val_tp: 58.0000 - val_fp: 390.0000 - val_tn: 617.0000 - val_fn: 30.0000 - val_accuracy: 0.6164 - val_precision: 0.1295 - val_recall: 0.6591 - val_auc: 0.6787 - val_prc: 0.1541\n",
      "Epoch 6/100\n",
      "5/5 [==============================] - 4s 799ms/step - loss: 0.6547 - tp: 528.0000 - fp: 4138.0000 - tn: 4919.0000 - fn: 261.0000 - accuracy: 0.5532 - precision: 0.1132 - recall: 0.6692 - auc: 0.6503 - prc: 0.1275 - val_loss: 0.6790 - val_tp: 66.0000 - val_fp: 494.0000 - val_tn: 513.0000 - val_fn: 22.0000 - val_accuracy: 0.5288 - val_precision: 0.1179 - val_recall: 0.7500 - val_auc: 0.6816 - val_prc: 0.1482\n",
      "Epoch 7/100\n",
      "5/5 [==============================] - 4s 864ms/step - loss: 0.6463 - tp: 491.0000 - fp: 3517.0000 - tn: 5540.0000 - fn: 298.0000 - accuracy: 0.6125 - precision: 0.1225 - recall: 0.6223 - auc: 0.6649 - prc: 0.1433 - val_loss: 0.6478 - val_tp: 60.0000 - val_fp: 452.0000 - val_tn: 555.0000 - val_fn: 28.0000 - val_accuracy: 0.5616 - val_precision: 0.1172 - val_recall: 0.6818 - val_auc: 0.6839 - val_prc: 0.1605\n",
      "Epoch 8/100\n",
      "5/5 [==============================] - 4s 814ms/step - loss: 0.6399 - tp: 583.0000 - fp: 4421.0000 - tn: 4636.0000 - fn: 206.0000 - accuracy: 0.5301 - precision: 0.1165 - recall: 0.7389 - auc: 0.6715 - prc: 0.1352 - val_loss: 0.6419 - val_tp: 61.0000 - val_fp: 452.0000 - val_tn: 555.0000 - val_fn: 27.0000 - val_accuracy: 0.5626 - val_precision: 0.1189 - val_recall: 0.6932 - val_auc: 0.6772 - val_prc: 0.1674\n",
      "Epoch 9/100\n",
      "5/5 [==============================] - 4s 797ms/step - loss: 0.6329 - tp: 529.0000 - fp: 3665.0000 - tn: 5392.0000 - fn: 260.0000 - accuracy: 0.6014 - precision: 0.1261 - recall: 0.6705 - auc: 0.6823 - prc: 0.1425 - val_loss: 0.6943 - val_tp: 63.0000 - val_fp: 529.0000 - val_tn: 478.0000 - val_fn: 25.0000 - val_accuracy: 0.4941 - val_precision: 0.1064 - val_recall: 0.7159 - val_auc: 0.6614 - val_prc: 0.1450\n",
      "Epoch 10/100\n",
      "5/5 [==============================] - 4s 798ms/step - loss: 0.6327 - tp: 601.0000 - fp: 4393.0000 - tn: 4664.0000 - fn: 188.0000 - accuracy: 0.5347 - precision: 0.1203 - recall: 0.7617 - auc: 0.6877 - prc: 0.1467 - val_loss: 0.5938 - val_tp: 52.0000 - val_fp: 380.0000 - val_tn: 627.0000 - val_fn: 36.0000 - val_accuracy: 0.6201 - val_precision: 0.1204 - val_recall: 0.5909 - val_auc: 0.6552 - val_prc: 0.1388\n",
      "Epoch 11/100\n",
      "5/5 [==============================] - 4s 790ms/step - loss: 0.6246 - tp: 554.0000 - fp: 3764.0000 - tn: 5293.0000 - fn: 235.0000 - accuracy: 0.5938 - precision: 0.1283 - recall: 0.7022 - auc: 0.6938 - prc: 0.1484 - val_loss: 0.6966 - val_tp: 63.0000 - val_fp: 531.0000 - val_tn: 476.0000 - val_fn: 25.0000 - val_accuracy: 0.4922 - val_precision: 0.1061 - val_recall: 0.7159 - val_auc: 0.6534 - val_prc: 0.1426\n",
      "Epoch 12/100\n",
      "5/5 [==============================] - 4s 807ms/step - loss: 0.6162 - tp: 595.0000 - fp: 4135.0000 - tn: 4922.0000 - fn: 194.0000 - accuracy: 0.5603 - precision: 0.1258 - recall: 0.7541 - auc: 0.7026 - prc: 0.1501 - val_loss: 0.6325 - val_tp: 59.0000 - val_fp: 463.0000 - val_tn: 544.0000 - val_fn: 29.0000 - val_accuracy: 0.5507 - val_precision: 0.1130 - val_recall: 0.6705 - val_auc: 0.6440 - val_prc: 0.1250\n",
      "Epoch 13/100\n",
      "5/5 [==============================] - 4s 807ms/step - loss: 0.6091 - tp: 579.0000 - fp: 3819.0000 - tn: 5238.0000 - fn: 210.0000 - accuracy: 0.5908 - precision: 0.1317 - recall: 0.7338 - auc: 0.7121 - prc: 0.1583 - val_loss: 0.6786 - val_tp: 60.0000 - val_fp: 531.0000 - val_tn: 476.0000 - val_fn: 28.0000 - val_accuracy: 0.4895 - val_precision: 0.1015 - val_recall: 0.6818 - val_auc: 0.6296 - val_prc: 0.1197\n",
      "Epoch 14/100\n",
      "5/5 [==============================] - 4s 797ms/step - loss: 0.6021 - tp: 623.0000 - fp: 4237.0000 - tn: 4820.0000 - fn: 166.0000 - accuracy: 0.5528 - precision: 0.1282 - recall: 0.7896 - auc: 0.7220 - prc: 0.1609 - val_loss: 0.5928 - val_tp: 52.0000 - val_fp: 406.0000 - val_tn: 601.0000 - val_fn: 36.0000 - val_accuracy: 0.5963 - val_precision: 0.1135 - val_recall: 0.5909 - val_auc: 0.6338 - val_prc: 0.1209\n",
      "Epoch 15/100\n",
      "5/5 [==============================] - 4s 790ms/step - loss: 0.5973 - tp: 598.0000 - fp: 3939.0000 - tn: 5118.0000 - fn: 191.0000 - accuracy: 0.5805 - precision: 0.1318 - recall: 0.7579 - auc: 0.7240 - prc: 0.1644 - val_loss: 0.6538 - val_tp: 49.0000 - val_fp: 489.0000 - val_tn: 518.0000 - val_fn: 39.0000 - val_accuracy: 0.5178 - val_precision: 0.0911 - val_recall: 0.5568 - val_auc: 0.5971 - val_prc: 0.1049\n",
      "Epoch 16/100\n",
      "5/5 [==============================] - 4s 790ms/step - loss: 0.5899 - tp: 587.0000 - fp: 3733.0000 - tn: 5324.0000 - fn: 202.0000 - accuracy: 0.6003 - precision: 0.1359 - recall: 0.7440 - auc: 0.7299 - prc: 0.1722 - val_loss: 0.7834 - val_tp: 63.0000 - val_fp: 594.0000 - val_tn: 413.0000 - val_fn: 25.0000 - val_accuracy: 0.4347 - val_precision: 0.0959 - val_recall: 0.7159 - val_auc: 0.6162 - val_prc: 0.1134\n",
      "Epoch 17/100\n",
      "5/5 [==============================] - 4s 784ms/step - loss: 0.5826 - tp: 613.0000 - fp: 3968.0000 - tn: 5089.0000 - fn: 176.0000 - accuracy: 0.5791 - precision: 0.1338 - recall: 0.7769 - auc: 0.7316 - prc: 0.1600 - val_loss: 0.5783 - val_tp: 47.0000 - val_fp: 387.0000 - val_tn: 620.0000 - val_fn: 41.0000 - val_accuracy: 0.6091 - val_precision: 0.1083 - val_recall: 0.5341 - val_auc: 0.6244 - val_prc: 0.1108\n",
      "Epoch 18/100\n",
      "5/5 [==============================] - ETA: 0s - loss: 0.5704 - tp: 641.0000 - fp: 4155.0000 - tn: 4902.0000 - fn: 148.0000 - accuracy: 0.5630 - precision: 0.1337 - recall: 0.8124 - auc: 0.7419 - prc: 0.1679Restoring model weights from the end of the best epoch.\n",
      "5/5 [==============================] - 4s 796ms/step - loss: 0.5704 - tp: 641.0000 - fp: 4155.0000 - tn: 4902.0000 - fn: 148.0000 - accuracy: 0.5630 - precision: 0.1337 - recall: 0.8124 - auc: 0.7419 - prc: 0.1679 - val_loss: 0.7035 - val_tp: 60.0000 - val_fp: 553.0000 - val_tn: 454.0000 - val_fn: 28.0000 - val_accuracy: 0.4694 - val_precision: 0.0979 - val_recall: 0.6818 - val_auc: 0.6100 - val_prc: 0.1081\n",
      "Epoch 00018: early stopping\n"
     ]
    },
    {
     "data": {
      "text/plain": [
       "<sklearn.metrics._plot.confusion_matrix.ConfusionMatrixDisplay at 0x19b19d47190>"
      ]
     },
     "execution_count": 209,
     "metadata": {},
     "output_type": "execute_result"
    },
    {
     "data": {
      "image/png": "[encoded data removed]",
      "text/plain": [
       "<Figure size 432x288 with 2 Axes>"
      ]
     },
     "metadata": {
      "needs_background": "light"
     },
     "output_type": "display_data"
    },
    {
     "data": {
      "image/png": "[encoded data removed]",
      "text/plain": [
       "<Figure size 432x288 with 2 Axes>"
      ]
     },
     "metadata": {
      "needs_background": "light"
     },
     "output_type": "display_data"
    }
   ],
   "source": [
    "X_train, X_test, y_train, y_test = train_test_split(X_total, Y_total, test_size=0.1, random_state=42,stratify=Y_total)\n",
    "import random as rn \n",
    "\n",
    "\n",
    "model=tf.keras.Sequential()\n",
    "model.add(tf.keras.layers.LSTM(256,input_shape=[X_train.shape[1],X_train.shape[2]],return_sequences=True))\n",
    "model.add(tf.keras.layers.Dropout(0.2))\n",
    "model.add(tf.keras.layers.LSTM(64))\n",
    "model.add(tf.keras.layers.Dropout(0.2))\n",
    "model.add(tf.keras.layers.Dense(1,activation=\"sigmoid\"))\n",
    "model.compile(loss='binary_crossentropy',optimizer='adam',metrics=METRICS)\n",
    "model.fit(X_train,y_train,epochs=100,batch_size=2048,validation_data=(X_test,y_test), class_weight=class_weight,  callbacks=[early_stopping])\n",
    "\n",
    "# Multiclass\n",
    "y_pred = model.predict_classes(X_test)\n",
    "cm=confusion_matrix(y_test, y_pred)\n",
    "\n",
    "disp = ConfusionMatrixDisplay(confusion_matrix=cm)    \n",
    "disp.plot() \n",
    "\n",
    "# Multiclass\n",
    "y_pred = model.predict_classes(X_train)\n",
    "cm=confusion_matrix(y_train, y_pred)\n",
    "\n",
    "disp = ConfusionMatrixDisplay(confusion_matrix=cm)    \n",
    "disp.plot() "
   ]
  },
  {
   "cell_type": "code",
   "execution_count": 210,
   "metadata": {},
   "outputs": [
    {
     "data": {
      "image/png": "[encoded data removed]",
      "text/plain": [
       "<Figure size 432x288 with 2 Axes>"
      ]
     },
     "metadata": {
      "needs_background": "light"
     },
     "output_type": "display_data"
    },
    {
     "data": {
      "image/png": "[encoded data removed]",
      "text/plain": [
       "<Figure size 432x288 with 1 Axes>"
      ]
     },
     "metadata": {
      "needs_background": "light"
     },
     "output_type": "display_data"
    }
   ],
   "source": [
    "from sklearn.metrics import roc_curve, auc\n",
    "\n",
    "# Multiclass\n",
    "y_pred = model.predict_classes(X_test)\n",
    "cm=confusion_matrix(y_test, y_pred)\n",
    "\n",
    "disp = ConfusionMatrixDisplay(confusion_matrix=cm)    \n",
    "disp.plot() \n",
    "\n",
    "\n",
    "y_score=model.predict(X_test)\n",
    "\n",
    "fpr, tpr, _ = roc_curve(y_test, y_score)\n",
    "roc_auc = auc(fpr, tpr)\n",
    "\n",
    "plt.figure()\n",
    "lw = 2\n",
    "plt.plot(fpr, tpr, color='darkorange',\n",
    "         lw=lw, label='ROC curve (area = %0.2f)' % roc_auc)\n",
    "plt.plot([0, 1], [0, 1], color='navy', lw=lw, linestyle='--')\n",
    "plt.xlim([0.0, 1.0])\n",
    "plt.ylim([0.0, 1.05])\n",
    "plt.xlabel('False Positive Rate')\n",
    "plt.ylabel('True Positive Rate')\n",
    "plt.title('Receiver operating characteristic example')\n",
    "plt.legend(loc=\"lower right\")\n",
    "plt.show()\n",
    "\n",
    "    "
   ]
  },
  {
   "cell_type": "code",
   "execution_count": 211,
   "metadata": {},
   "outputs": [
    {
     "data": {
      "image/png": "[encoded data removed]",
      "text/plain": [
       "<Figure size 432x288 with 2 Axes>"
      ]
     },
     "metadata": {
      "needs_background": "light"
     },
     "output_type": "display_data"
    },
    {
     "data": {
      "image/png": "[encoded data removed]",
      "text/plain": [
       "<Figure size 432x288 with 1 Axes>"
      ]
     },
     "metadata": {
      "needs_background": "light"
     },
     "output_type": "display_data"
    }
   ],
   "source": [
    "from sklearn.metrics import roc_curve, auc\n",
    "\n",
    "# Multiclass\n",
    "y_pred = model.predict_classes(X_train)\n",
    "cm=confusion_matrix(y_train, y_pred)\n",
    "\n",
    "disp = ConfusionMatrixDisplay(confusion_matrix=cm)    \n",
    "disp.plot() \n",
    "\n",
    "\n",
    "y_score=model.predict(X_train)\n",
    "\n",
    "fpr, tpr, _ = roc_curve(y_train, y_score)\n",
    "roc_auc = auc(fpr, tpr)\n",
    "\n",
    "plt.figure()\n",
    "lw = 2\n",
    "plt.plot(fpr, tpr, color='darkorange',\n",
    "         lw=lw, label='ROC curve (area = %0.2f)' % roc_auc)\n",
    "plt.plot([0, 1], [0, 1], color='navy', lw=lw, linestyle='--')\n",
    "plt.xlim([0.0, 1.0])\n",
    "plt.ylim([0.0, 1.05])\n",
    "plt.xlabel('False Positive Rate')\n",
    "plt.ylabel('True Positive Rate')\n",
    "plt.title('Receiver operating characteristic example')\n",
    "plt.legend(loc=\"lower right\")\n",
    "plt.show()\n",
    "\n",
    "    "
   ]
  },
  {
   "cell_type": "code",
   "execution_count": 212,
   "metadata": {},
   "outputs": [],
   "source": [
    "def data(file):\n",
    "    d=pd.read_csv(file)\n",
    "    d.drop(columns=[\"Unnamed: 0\"],inplace=True)\n",
    "    print(d.label.value_counts())\n",
    "\n",
    "    d1=d.drop(columns=[\"length\",'Type', 'timesensitive', 'client_min',\n",
    "           'client_max', 'client_resendMin', 'client_resendMax', 'errorRate',\n",
    "           'server_min', 'server_max', 'client_mac', 'client_ip',\n",
    "           'client_send_port', 'client_rec_port', 'server_mac', 'server_ip',\n",
    "           'server_send_port', 'server_rec_port'])\n",
    "\n",
    "    packets_dum=pd.get_dummies(d1, columns=[ \"session_id\",'msg_type', 'iface_ver', 'proto_ver', 'retcode',\n",
    "           'ip_src', 'ip_dst', 'proto', 'sport', 'dport', 'mac_src', 'mac_dst',\n",
    "           'service_id', 'method_id','Client_id'])\n",
    "\n",
    "\n",
    "    #packets_dum.drop(columns=[\"iface_ver_3\",\"retcode_10\",\"ip_src_10.1.0.9\",\"mac_src_02:9b:bb:bb:bb:bb\"],inplace=True)\n",
    "\n",
    "    packets_dum[\"Label\"]=packets_dum[\"label\"]\n",
    "\n",
    "    packets_dum.drop(columns=\"label\",inplace=True)\n",
    "    packets_dum.head()\n",
    "\n",
    "    X=packets_dum.iloc[:,0:-1]\n",
    "    y=packets_dum.iloc[:,-1]\n",
    "\n",
    "    X=X.astype(float)\n",
    "    X=X.to_numpy()\n",
    "    y=y.astype(int)\n",
    "    y=y.to_numpy()\n",
    "\n",
    "    print(X.shape)\n",
    "\n",
    "    window=8\n",
    "    X_new=np.zeros((X.shape[0],window*2+1,X.shape[1]))\n",
    "    X_new.shape\n",
    "\n",
    "    for i in range(len(X_new)):\n",
    "        if(i-window<0):\n",
    "            X_new[i]=np.concatenate((np.zeros((abs(i-window),X_new.shape[2])),X[0:i+window+1]))\n",
    "        else:\n",
    "            if(((i-window)>=0) & ((i+window)<=len(X)-1)):\n",
    "                X_new[i]=X[i-window:i+window+1]\n",
    "            else:\n",
    "                X_new[i]=np.concatenate((X[(i-window):len(X)],np.zeros(((i+window-len(X)+1),X_new.shape[2]))))\n",
    "\n",
    "    y_new=y\n",
    "\n",
    "\n",
    "    \n",
    "\n",
    "    return X_new,y_new"
   ]
  },
  {
   "cell_type": "code",
   "execution_count": 213,
   "metadata": {},
   "outputs": [
    {
     "name": "stdout",
     "output_type": "stream",
     "text": [
      "0    1292\n",
      "1     115\n",
      "Name: label, dtype: int64\n",
      "(1407, 195)\n"
     ]
    }
   ],
   "source": [
    "X,y=data(\"missing_request_test.csv\")"
   ]
  },
  {
   "cell_type": "code",
   "execution_count": 214,
   "metadata": {},
   "outputs": [
    {
     "data": {
      "image/png": "[encoded data removed]",
      "text/plain": [
       "<Figure size 432x288 with 2 Axes>"
      ]
     },
     "metadata": {
      "needs_background": "light"
     },
     "output_type": "display_data"
    },
    {
     "data": {
      "image/png": "[encoded data removed]",
      "text/plain": [
       "<Figure size 432x288 with 1 Axes>"
      ]
     },
     "metadata": {
      "needs_background": "light"
     },
     "output_type": "display_data"
    }
   ],
   "source": [
    "# Multiclass\n",
    "y_pred = model.predict_classes(X)\n",
    "cm=confusion_matrix(y, y_pred)\n",
    "\n",
    "disp = ConfusionMatrixDisplay(confusion_matrix=cm)    \n",
    "disp.plot() \n",
    "\n",
    "\n",
    "y_score=model.predict(X)\n",
    "\n",
    "fpr, tpr, _ = roc_curve(y, y_score)\n",
    "roc_auc = auc(fpr, tpr)\n",
    "\n",
    "plt.figure()\n",
    "lw = 2\n",
    "plt.plot(fpr, tpr, color='darkorange',\n",
    "         lw=lw, label='ROC curve (area = %0.2f)' % roc_auc)\n",
    "plt.plot([0, 1], [0, 1], color='navy', lw=lw, linestyle='--')\n",
    "plt.xlim([0.0, 1.0])\n",
    "plt.ylim([0.0, 1.05])\n",
    "plt.xlabel('False Positive Rate')\n",
    "plt.ylabel('True Positive Rate')\n",
    "plt.title('Receiver operating characteristic example')\n",
    "plt.legend(loc=\"lower right\")\n",
    "plt.show()    "
   ]
  },
  {
   "cell_type": "code",
   "execution_count": null,
   "metadata": {},
   "outputs": [],
   "source": []
  }
 ],
 "metadata": {
  "kernelspec": {
   "display_name": "Python 3",
   "language": "python",
   "name": "python3"
  },
  "language_info": {
   "codemirror_mode": {
    "name": "ipython",
    "version": 3
   },
   "file_extension": ".py",
   "mimetype": "text/x-python",
   "name": "python",
   "nbconvert_exporter": "python",
   "pygments_lexer": "ipython3",
   "version": "3.8.3"
  }
 },
 "nbformat": 4,
 "nbformat_minor": 4
}
