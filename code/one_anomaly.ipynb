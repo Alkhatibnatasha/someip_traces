{
 "cells": [
  {
   "cell_type": "markdown",
   "metadata": {},
   "source": [
    "# Libraries"
   ]
  },
  {
   "cell_type": "code",
   "execution_count": 92,
   "metadata": {},
   "outputs": [],
   "source": [
    "import pandas as pd \n",
    "import numpy as np \n",
    "import tensorflow as tf\n",
    "from sklearn.model_selection import train_test_split\n",
    "from sklearn.metrics import confusion_matrix\n",
    "from sklearn.model_selection import StratifiedKFold\n",
    "import matplotlib.pyplot as plt\n",
    "from sklearn.preprocessing import LabelEncoder\n",
    "from sklearn.metrics import confusion_matrix, ConfusionMatrixDisplay"
   ]
  },
  {
   "cell_type": "markdown",
   "metadata": {},
   "source": [
    "# Functions"
   ]
  },
  {
   "cell_type": "code",
   "execution_count": 93,
   "metadata": {},
   "outputs": [],
   "source": [
    "def preprocess(s,a):\n",
    "    \n",
    "    s1=s.copy()\n",
    "    \n",
    "    s1[\"service_id_orig\"]=s1[\"service_id\"]\n",
    "    s1[\"msg_type_orig\"]=s1[\"msg_type\"]\n",
    "    s1[\"Client_id_orig\"]=s1[\"Client_id\"]\n",
    "    s1[\"session_id_orig\"]=s1[\"session_id\"]\n",
    "    s1[\"iface_ver_orig\"]=s1[\"iface_ver\"]\n",
    "    s1[\"method_id_orig\"]=s1[\"method_id\"]\n",
    "    s1[\"proto_ver_orig\"]=s1[\"proto_ver\"]\n",
    "    s1[\"retcode_orig\"]=s1[\"retcode\"]\n",
    "    s1[\"ip_src_orig\"]=s1[\"ip_src\"]\n",
    "    s1[\"ip_dst_orig\"]=s1[\"ip_dst\"]\n",
    "    s1[\"proto_orig\"]=s1[\"proto\"]\n",
    "    s1[\"sport_orig\"]=s1[\"sport\"]\n",
    "    s1[\"dport_orig\"]=s1[\"dport\"]\n",
    "    s1[\"mac_src_orig\"]=s1[\"mac_src\"]\n",
    "    s1[\"mac_dst_orig\"]=s1[\"mac_dst\"]\n",
    "    \n",
    "    s1_dummies=pd.get_dummies(s1, columns=[ 'session_id','msg_type', 'iface_ver', 'proto_ver', 'retcode',\n",
    "       'ip_src', 'ip_dst', 'proto', 'sport', 'dport', 'mac_src', 'mac_dst',\n",
    "       'service_id', 'method_id','Client_id'])\n",
    "    \n",
    "    if(a==1):\n",
    "        s1_dummies.drop(columns=[\"retcode_10\"],inplace=True)\n",
    "\n",
    "    g=s1_dummies.groupby([\"service_id_orig\",\"Client_id_orig\",\"session_id_orig\",\"method_id_orig\"])\n",
    "    \n",
    "    \n",
    "    \n",
    "    z=[row[1] for row in list(g)]\n",
    "    \n",
    "    y=np.zeros((len(z),1))\n",
    "    \n",
    "    # 2 classes \n",
    "    #for i in range(len(z)):\n",
    "        #y[i]= (z[i][\"label\"].sum())/2\n",
    "    \n",
    "    for i in range(len(z)):\n",
    "        if(z[i][\"label\"].sum()!=0):\n",
    "            y[i]=1\n",
    "        \n",
    "    for i in z: \n",
    "        i.drop(columns=['label','service_id_orig', 'msg_type_orig',\n",
    "       'Client_id_orig', 'session_id_orig', 'iface_ver_orig', 'method_id_orig',\n",
    "       'proto_ver_orig', 'retcode_orig', 'ip_src_orig', 'ip_dst_orig',\n",
    "       'proto_orig', 'sport_orig', 'dport_orig', 'mac_src_orig',\n",
    "       'mac_dst_orig'],inplace=True)\n",
    "        \n",
    "        \n",
    "    z1=list((i.to_numpy() for i in z))\n",
    "    \n",
    "    \n",
    "        \n",
    "    \n",
    "\n",
    "    \n",
    "    \n",
    "    \n",
    "    return z1,y"
   ]
  },
  {
   "cell_type": "markdown",
   "metadata": {},
   "source": [
    "# Data preparation "
   ]
  },
  {
   "cell_type": "code",
   "execution_count": 152,
   "metadata": {},
   "outputs": [
    {
     "name": "stdout",
     "output_type": "stream",
     "text": [
      "Number of columns before drop 34\n",
      "Number of columns after drop 16\n",
      "Maximum sequence must be less than 60. In our case, it is 27\n",
      "(array([ 1,  2,  3,  4,  5,  6,  7,  8, 14, 16, 17, 25, 27]), array([294, 274,  23,  66,   5,  10,   1,   1,   1,   1,   1,   1,   1]))\n",
      "(679, 60, 195)\n"
     ]
    }
   ],
   "source": [
    "data=pd.read_csv(\"missing_request3.csv\")\n",
    "data=data.drop(columns=\"Unnamed: 0\")\n",
    "\n",
    "print(\"Number of columns before drop \" + str(len(data.columns)))\n",
    "\n",
    "data.drop(columns=[ 'length','Type', 'timesensitive','client_min',\n",
    "       'client_max', 'client_resendMin', 'client_resendMax', 'errorRate',\n",
    "       'server_min', 'server_max', 'client_mac', 'client_ip',\n",
    "       'client_send_port', 'client_rec_port', 'server_mac', 'server_ip',\n",
    "       'server_send_port', 'server_rec_port'],inplace=True)\n",
    "\n",
    "print(\"Number of columns after drop \" + str(len(data.columns)))\n",
    "\n",
    "x,y=preprocess(data,0)\n",
    "\n",
    "#Max Length\n",
    "length=[]\n",
    "for i in range(len(x)):\n",
    "    length.append(x[i].shape[0])\n",
    "\n",
    "print(\"Maximum sequence must be less than 60. In our case, it is \" + str(max(length)))\n",
    "\n",
    "print(np.unique(np.array(length),return_counts=True))\n",
    "\n",
    "# Pad Sequences by 0 (Post padding)\n",
    "\n",
    "\n",
    "padded = tf.keras.preprocessing.sequence.pad_sequences(x, padding='post',maxlen=60)\n",
    "print(padded.shape)\n",
    "\n",
    "\n"
   ]
  },
  {
   "cell_type": "markdown",
   "metadata": {},
   "source": [
    "# Deep Learning"
   ]
  },
  {
   "cell_type": "code",
   "execution_count": 153,
   "metadata": {},
   "outputs": [
    {
     "name": "stdout",
     "output_type": "stream",
     "text": [
      "Weight for class 0: 0.57\n",
      "Weight for class 1: 4.13\n",
      "Train on 454 samples, validate on 225 samples\n",
      "Epoch 1/10\n",
      "454/454 [==============================] - 5s 12ms/sample - loss: 0.7050 - acc: 0.6652 - val_loss: 0.6382 - val_acc: 0.8089\n",
      "Epoch 2/10\n",
      "454/454 [==============================] - 0s 274us/sample - loss: 0.6136 - acc: 0.9339 - val_loss: 0.5245 - val_acc: 0.9467\n",
      "Epoch 3/10\n",
      "454/454 [==============================] - 0s 268us/sample - loss: 0.5350 - acc: 0.9736 - val_loss: 0.4429 - val_acc: 0.9644\n",
      "Epoch 4/10\n",
      "454/454 [==============================] - 0s 271us/sample - loss: 0.4459 - acc: 0.9714 - val_loss: 0.3652 - val_acc: 0.9778\n",
      "Epoch 5/10\n",
      "454/454 [==============================] - 0s 268us/sample - loss: 0.3652 - acc: 0.9714 - val_loss: 0.2812 - val_acc: 0.9911\n",
      "Epoch 6/10\n",
      "454/454 [==============================] - 0s 274us/sample - loss: 0.2939 - acc: 0.9846 - val_loss: 0.2248 - val_acc: 0.9956\n",
      "Epoch 7/10\n",
      "454/454 [==============================] - 0s 268us/sample - loss: 0.2346 - acc: 0.9824 - val_loss: 0.1747 - val_acc: 0.9956\n",
      "Epoch 8/10\n",
      "454/454 [==============================] - 0s 287us/sample - loss: 0.1887 - acc: 0.9890 - val_loss: 0.1409 - val_acc: 0.9956\n",
      "Epoch 9/10\n",
      "454/454 [==============================] - 0s 289us/sample - loss: 0.1546 - acc: 0.9934 - val_loss: 0.1152 - val_acc: 0.9956\n",
      "Epoch 10/10\n",
      "454/454 [==============================] - 0s 285us/sample - loss: 0.1236 - acc: 0.9912 - val_loss: 0.1007 - val_acc: 0.9956\n",
      "225/225 [==============================] - 0s 258us/sample - loss: 0.1007 - acc: 0.9956\n",
      "acc: 99.56%\n",
      "[197   0   1  27]\n"
     ]
    },
    {
     "data": {
      "text/plain": [
       "<sklearn.metrics._plot.confusion_matrix.ConfusionMatrixDisplay at 0x7f0f9cb82eb8>"
      ]
     },
     "execution_count": 153,
     "metadata": {},
     "output_type": "execute_result"
    },
    {
     "data": {
      "image/png": "[encoded data removed]",
      "text/plain": [
       "<Figure size 432x288 with 2 Axes>"
      ]
     },
     "metadata": {
      "needs_background": "light"
     },
     "output_type": "display_data"
    }
   ],
   "source": [
    "#Split Data \n",
    "X_train, X_test, y_train, y_test = train_test_split(padded, y, test_size=0.33, random_state=42,stratify=y)\n",
    "\n",
    "\n",
    "\n",
    "\n",
    "\n",
    "# Class Weight for Data Imbalancing\n",
    "neg = len(y_train[y_train==0])\n",
    "pos= len(y_train[y_train!=0])\n",
    "total=len(y_train)\n",
    "\n",
    "weight_for_0 = (1 / neg) * (total / 2.0)\n",
    "weight_for_1 = (1 / pos) * (total / 2.0)\n",
    "\n",
    "class_weight = {0: weight_for_0, 1: weight_for_1}\n",
    "\n",
    "print('Weight for class 0: {:.2f}'.format(weight_for_0))\n",
    "print('Weight for class 1: {:.2f}'.format(weight_for_1))\n",
    "\n",
    "\n",
    "\n",
    "\n",
    "\n",
    "# Deep Learning \n",
    "model= tf.keras.Sequential([tf.keras.layers.SimpleRNN(20,return_sequences=True,input_shape=[X_train.shape[1],X_train.shape[2]]),\n",
    "           tf.keras.layers.SimpleRNN(10),tf.keras.layers.Dense(1, activation='sigmoid')])\n",
    "\n",
    "model.compile(loss='binary_crossentropy',optimizer='adam',metrics=['accuracy'])\n",
    "# Fit the model\n",
    "\n",
    "\n",
    "# simple early stopping\n",
    "#es = EarlyStopping(monitor='val_loss', mode='min', verbose=1, patience=10)\n",
    "#mc = ModelCheckpoint('LSTM.h5', monitor='val_accuracy', mode='max', verbose=1, save_best_only=True)\n",
    "\n",
    "\n",
    "history=model.fit(X_train, y_train, epochs=10,batch_size=100,validation_data=(X_test, y_test),class_weight=class_weight)\n",
    "# evaluate the model\n",
    "#saved_model = load_model('best_model.h5')\n",
    "\n",
    "scores = model.evaluate(X_test, y_test)\n",
    "print(\"%s: %.2f%%\" % (model.metrics_names[1], scores[1]*100))\n",
    "\n",
    "y_pred = model.predict_classes(X_test)\n",
    "cm=confusion_matrix(y_test, y_pred)\n",
    "\n",
    "tn, fp, fn, tp = cm.ravel()\n",
    "\n",
    "\n",
    "print(cm.ravel())\n",
    "\n",
    "disp = ConfusionMatrixDisplay(confusion_matrix=cm)    \n",
    "disp.plot() "
   ]
  },
  {
   "cell_type": "markdown",
   "metadata": {},
   "source": [
    "# Cross Validation"
   ]
  },
  {
   "cell_type": "code",
   "execution_count": 154,
   "metadata": {},
   "outputs": [
    {
     "name": "stdout",
     "output_type": "stream",
     "text": [
      "TRAIN: [  0   2   4   5   7   8   9  10  11  12  13  14  15  16  17  19  20  21\n",
      "  22  24  25  26  27  28  29  30  31  32  33  34  36  37  38  39  40  41\n",
      "  42  43  45  46  47  48  49  50  51  52  53  55  57  59  60  63  64  65\n",
      "  66  67  68  69  70  71  72  73  74  75  76  77  78  79  80  81  82  83\n",
      "  84  85  87  88  89  90  91  93  94  95  96  97  98  99 100 101 103 104\n",
      " 105 106 107 109 110 111 112 113 114 115 117 118 120 121 122 123 124 125\n",
      " 126 127 128 129 130 131 132 133 134 135 136 138 139 140 141 142 143 144\n",
      " 146 148 149 151 154 155 156 160 161 163 165 166 167 168 169 170 171 172\n",
      " 173 175 177 179 180 181 182 183 185 186 187 188 189 190 191 193 194 195\n",
      " 196 198 199 200 201 202 204 205 206 207 208 209 210 211 213 214 216 219\n",
      " 220 221 222 223 225 226 227 231 232 233 234 236 237 238 239 240 241 242\n",
      " 243 244 245 246 247 249 251 252 253 254 255 256 257 259 260 261 262 265\n",
      " 266 267 268 269 270 271 272 273 274 275 276 277 278 280 282 283 285 286\n",
      " 287 288 289 290 291 293 294 295 297 298 299 300 301 302 303 304 305 307\n",
      " 308 309 310 312 313 316 318 320 321 322 324 325 326 327 329 330 332 334\n",
      " 335 336 337 338 339 340 342 343 344 346 347 349 350 351 352 354 357 359\n",
      " 360 361 362 363 366 367 369 370 371 373 375 376 377 378 379 380 381 384\n",
      " 385 386 387 388 389 393 394 395 396 397 398 399 400 401 402 403 404 405\n",
      " 406 407 408 409 410 411 412 413 415 416 417 418 419 421 422 423 424 425\n",
      " 427 428 429 430 432 434 435 439 440 442 443 444 445 446 447 448 449 450\n",
      " 451 453 454 455 456 457 459 460 461 462 463 464 465 466 467 468 469 470\n",
      " 472 473 475 476 477 478 480 481 482 483 484 485 486 487 488 489 490 491\n",
      " 492 493 494 495 497 499 500 501 502 504 505 507 508 510 511 512 513 514\n",
      " 520 521 522 523 525 526 527 528 530 531 532 533 534 535 537 538 541 542\n",
      " 543 545 546 547 548 549 550 551 553 554 556 557 558 559 560 561 562 563\n",
      " 564 565 567 568 569 570 571 572 573 575 576 577 579 581 582 583 584 585\n",
      " 586 587 588 589 590 591 592 594 595 596 597 598 599 601 604 605 606 607\n",
      " 609 610 611 612 613 614 615 616 618 619 621 622 623 624 625 626 627 628\n",
      " 630 631 632 633 634 635 636 637 638 639 642 643 644 645 646 648 649 651\n",
      " 652 654 655 657 658 660 661 662 663 664 666 667 668 669 670 671 672 674\n",
      " 675 676 678] TEST: [  1   3   6  18  23  35  44  54  56  58  61  62  86  92 102 108 116 119\n",
      " 137 145 147 150 152 153 157 158 159 162 164 174 176 178 184 192 197 203\n",
      " 212 215 217 218 224 228 229 230 235 248 250 258 263 264 279 281 284 292\n",
      " 296 306 311 314 315 317 319 323 328 331 333 341 345 348 353 355 356 358\n",
      " 364 365 368 372 374 382 383 390 391 392 414 420 426 431 433 436 437 438\n",
      " 441 452 458 471 474 479 496 498 503 506 509 515 516 517 518 519 524 529\n",
      " 536 539 540 544 552 555 566 574 578 580 593 600 602 603 608 617 620 629\n",
      " 640 641 647 650 653 656 659 665 673 677]\n",
      "Weight for class 0: 0.57\n",
      "Weight for class 1: 4.11\n",
      "Train on 543 samples, validate on 136 samples\n",
      "Epoch 1/10\n",
      "543/543 [==============================] - 6s 11ms/sample - loss: 0.5297 - acc: 0.9227 - val_loss: 0.3837 - val_acc: 0.9706\n",
      "Epoch 2/10\n",
      "543/543 [==============================] - 0s 235us/sample - loss: 0.3823 - acc: 0.9687 - val_loss: 0.2699 - val_acc: 0.9926\n",
      "Epoch 3/10\n",
      "543/543 [==============================] - 0s 253us/sample - loss: 0.2951 - acc: 0.9834 - val_loss: 0.2326 - val_acc: 0.9706\n",
      "Epoch 4/10\n",
      "543/543 [==============================] - 0s 250us/sample - loss: 0.2269 - acc: 0.9871 - val_loss: 0.1903 - val_acc: 0.9779\n",
      "Epoch 5/10\n",
      "543/543 [==============================] - 0s 263us/sample - loss: 0.1731 - acc: 0.9982 - val_loss: 0.1574 - val_acc: 0.9779\n",
      "Epoch 6/10\n",
      "543/543 [==============================] - 0s 270us/sample - loss: 0.1376 - acc: 0.9982 - val_loss: 0.1351 - val_acc: 0.9779\n",
      "Epoch 7/10\n",
      "543/543 [==============================] - 0s 258us/sample - loss: 0.1178 - acc: 0.9982 - val_loss: 0.1243 - val_acc: 0.9779\n",
      "Epoch 8/10\n",
      "543/543 [==============================] - 0s 259us/sample - loss: 0.1000 - acc: 0.9982 - val_loss: 0.1162 - val_acc: 0.9706\n",
      "Epoch 9/10\n",
      "543/543 [==============================] - 0s 259us/sample - loss: 0.0845 - acc: 0.9982 - val_loss: 0.1126 - val_acc: 0.9632\n",
      "Epoch 10/10\n",
      "543/543 [==============================] - 0s 277us/sample - loss: 0.0775 - acc: 0.9945 - val_loss: 0.1093 - val_acc: 0.9706\n",
      "136/136 [==============================] - 0s 357us/sample - loss: 0.1093 - acc: 0.9706\n",
      "acc: 97.06%\n"
     ]
    },
    {
     "data": {
      "image/png": "[encoded data removed]",
      "text/plain": [
       "<Figure size 432x288 with 1 Axes>"
      ]
     },
     "metadata": {
      "needs_background": "light"
     },
     "output_type": "display_data"
    },
    {
     "name": "stdout",
     "output_type": "stream",
     "text": [
      "TRAIN: [  0   1   2   3   6   7   8   9  10  12  13  14  16  17  18  21  22  23\n",
      "  26  27  28  29  30  32  33  34  35  36  37  38  39  40  41  42  43  44\n",
      "  45  46  48  49  50  52  53  54  55  56  58  59  61  62  63  64  66  68\n",
      "  69  70  71  72  73  74  75  76  78  79  81  83  85  86  87  88  89  90\n",
      "  91  92  93  94  97  99 100 102 103 104 106 107 108 113 114 115 116 117\n",
      " 118 119 120 121 122 123 125 126 129 130 131 133 134 135 137 138 139 141\n",
      " 142 143 144 145 147 148 149 150 152 153 154 155 156 157 158 159 160 162\n",
      " 164 166 167 168 171 172 173 174 175 176 178 179 180 181 183 184 185 186\n",
      " 187 188 189 190 191 192 194 195 196 197 198 200 201 202 203 204 205 206\n",
      " 208 209 210 211 212 213 214 215 216 217 218 219 222 223 224 225 226 227\n",
      " 228 229 230 231 232 233 234 235 237 239 240 241 245 246 247 248 250 251\n",
      " 252 253 254 255 256 257 258 260 261 263 264 265 267 269 270 271 272 273\n",
      " 274 275 276 277 278 279 280 281 282 284 285 287 289 290 291 292 295 296\n",
      " 298 299 300 301 302 303 304 306 309 310 311 312 313 314 315 316 317 318\n",
      " 319 320 321 322 323 324 325 326 327 328 329 330 331 332 333 334 336 337\n",
      " 339 341 345 347 348 349 351 352 353 354 355 356 357 358 359 360 361 362\n",
      " 363 364 365 366 368 370 371 372 373 374 375 376 377 380 382 383 388 390\n",
      " 391 392 393 394 395 396 397 399 400 401 402 403 404 406 409 411 412 413\n",
      " 414 415 418 419 420 422 423 424 425 426 427 429 430 431 432 433 434 435\n",
      " 436 437 438 439 441 442 443 444 445 446 447 448 450 451 452 454 455 456\n",
      " 457 458 459 462 463 464 465 466 467 468 469 470 471 474 475 476 478 479\n",
      " 480 481 482 483 484 485 486 488 489 490 491 492 494 495 496 497 498 499\n",
      " 501 502 503 504 505 506 507 508 509 510 511 512 514 515 516 517 518 519\n",
      " 521 522 524 525 526 528 529 532 533 534 535 536 537 538 539 540 541 543\n",
      " 544 546 547 548 550 551 552 553 554 555 556 557 558 560 565 566 567 568\n",
      " 569 570 571 572 573 574 575 576 577 578 580 581 582 583 584 585 586 587\n",
      " 588 589 590 592 593 594 595 596 597 598 599 600 601 602 603 604 605 606\n",
      " 607 608 610 611 612 613 615 616 617 619 620 621 623 625 626 627 628 629\n",
      " 630 632 634 635 636 638 639 640 641 642 644 645 646 647 648 649 650 652\n",
      " 653 656 658 659 660 661 662 663 665 666 668 669 670 671 672 673 674 675\n",
      " 676 677 678] TEST: [  4   5  11  15  19  20  24  25  31  47  51  57  60  65  67  77  80  82\n",
      "  84  95  96  98 101 105 109 110 111 112 124 127 128 132 136 140 146 151\n",
      " 161 163 165 169 170 177 182 193 199 207 220 221 236 238 242 243 244 249\n",
      " 259 262 266 268 283 286 288 293 294 297 305 307 308 335 338 340 342 343\n",
      " 344 346 350 367 369 378 379 381 384 385 386 387 389 398 405 407 408 410\n",
      " 416 417 421 428 440 449 453 460 461 472 473 477 487 493 500 513 520 523\n",
      " 527 530 531 542 545 549 559 561 562 563 564 579 591 609 614 618 622 624\n",
      " 631 633 637 643 651 654 655 657 664 667]\n",
      "Weight for class 0: 0.57\n",
      "Weight for class 1: 4.11\n",
      "Train on 543 samples, validate on 136 samples\n",
      "Epoch 1/10\n",
      "543/543 [==============================] - 5s 10ms/sample - loss: 0.6081 - acc: 0.6648 - val_loss: 0.4267 - val_acc: 0.9485\n",
      "Epoch 2/10\n",
      "543/543 [==============================] - 0s 228us/sample - loss: 0.3798 - acc: 0.9669 - val_loss: 0.2544 - val_acc: 0.9632\n",
      "Epoch 3/10\n",
      "543/543 [==============================] - 0s 253us/sample - loss: 0.2735 - acc: 0.9853 - val_loss: 0.2241 - val_acc: 0.9632\n",
      "Epoch 4/10\n",
      "543/543 [==============================] - 0s 225us/sample - loss: 0.2257 - acc: 0.9908 - val_loss: 0.1694 - val_acc: 0.9779\n",
      "Epoch 5/10\n",
      "543/543 [==============================] - 0s 243us/sample - loss: 0.1989 - acc: 0.9871 - val_loss: 0.1516 - val_acc: 0.9853\n",
      "Epoch 6/10\n",
      "543/543 [==============================] - 0s 235us/sample - loss: 0.1670 - acc: 0.9890 - val_loss: 0.1336 - val_acc: 0.9926\n",
      "Epoch 7/10\n",
      "543/543 [==============================] - 0s 242us/sample - loss: 0.1545 - acc: 0.9926 - val_loss: 0.1264 - val_acc: 0.9853\n",
      "Epoch 8/10\n",
      "543/543 [==============================] - 0s 232us/sample - loss: 0.1408 - acc: 0.9926 - val_loss: 0.1141 - val_acc: 0.9853\n",
      "Epoch 9/10\n",
      "543/543 [==============================] - 0s 226us/sample - loss: 0.1315 - acc: 0.9926 - val_loss: 0.1034 - val_acc: 0.9926\n",
      "Epoch 10/10\n",
      "543/543 [==============================] - 0s 227us/sample - loss: 0.1235 - acc: 0.9926 - val_loss: 0.1067 - val_acc: 0.9853\n",
      "136/136 [==============================] - 0s 265us/sample - loss: 0.1067 - acc: 0.9853\n",
      "acc: 98.53%\n"
     ]
    },
    {
     "data": {
      "image/png": "[encoded data removed]",
      "text/plain": [
       "<Figure size 432x288 with 1 Axes>"
      ]
     },
     "metadata": {
      "needs_background": "light"
     },
     "output_type": "display_data"
    },
    {
     "name": "stdout",
     "output_type": "stream",
     "text": [
      "TRAIN: [  0   1   3   4   5   6   7   8   9  11  12  13  15  16  17  18  19  20\n",
      "  22  23  24  25  26  28  29  30  31  32  33  34  35  36  38  40  41  42\n",
      "  43  44  45  46  47  48  49  51  52  54  55  56  57  58  59  60  61  62\n",
      "  63  64  65  66  67  68  69  71  72  73  74  75  76  77  80  81  82  84\n",
      "  85  86  87  88  89  92  94  95  96  98 100 101 102 103 105 106 107 108\n",
      " 109 110 111 112 113 115 116 117 118 119 121 123 124 125 126 127 128 129\n",
      " 130 131 132 134 135 136 137 138 139 140 141 142 143 145 146 147 148 150\n",
      " 151 152 153 154 155 157 158 159 161 162 163 164 165 166 167 168 169 170\n",
      " 171 172 173 174 176 177 178 179 180 181 182 183 184 186 189 190 192 193\n",
      " 194 195 196 197 198 199 200 201 202 203 205 207 208 209 212 215 217 218\n",
      " 220 221 222 224 225 227 228 229 230 231 232 233 234 235 236 238 239 240\n",
      " 241 242 243 244 246 248 249 250 251 252 253 254 255 258 259 260 261 262\n",
      " 263 264 266 267 268 272 273 275 279 280 281 282 283 284 285 286 287 288\n",
      " 289 290 292 293 294 295 296 297 298 299 305 306 307 308 310 311 314 315\n",
      " 316 317 318 319 323 324 325 326 327 328 330 331 332 333 334 335 336 338\n",
      " 340 341 342 343 344 345 346 347 348 349 350 353 354 355 356 357 358 360\n",
      " 361 362 364 365 367 368 369 370 371 372 373 374 375 377 378 379 380 381\n",
      " 382 383 384 385 386 387 388 389 390 391 392 393 394 396 398 400 402 404\n",
      " 405 407 408 409 410 414 415 416 417 419 420 421 422 423 424 426 427 428\n",
      " 430 431 432 433 434 435 436 437 438 439 440 441 443 446 447 448 449 452\n",
      " 453 454 455 457 458 459 460 461 462 463 466 468 469 471 472 473 474 475\n",
      " 477 478 479 480 481 483 484 485 486 487 488 489 490 491 492 493 494 495\n",
      " 496 498 500 501 502 503 505 506 507 508 509 510 511 512 513 514 515 516\n",
      " 517 518 519 520 521 522 523 524 526 527 529 530 531 532 533 535 536 537\n",
      " 538 539 540 542 543 544 545 546 547 548 549 550 551 552 553 555 557 558\n",
      " 559 560 561 562 563 564 566 570 572 573 574 575 576 577 578 579 580 581\n",
      " 582 584 588 589 590 591 593 598 599 600 602 603 604 605 607 608 609 611\n",
      " 612 614 615 616 617 618 619 620 621 622 623 624 625 627 629 630 631 633\n",
      " 634 635 636 637 639 640 641 642 643 644 645 646 647 648 649 650 651 653\n",
      " 654 655 656 657 658 659 660 661 662 663 664 665 666 667 668 669 670 671\n",
      " 673 676 677] TEST: [  2  10  14  21  27  37  39  50  53  70  78  79  83  90  91  93  97  99\n",
      " 104 114 120 122 133 144 149 156 160 175 185 187 188 191 204 206 210 211\n",
      " 213 214 216 219 223 226 237 245 247 256 257 265 269 270 271 274 276 277\n",
      " 278 291 300 301 302 303 304 309 312 313 320 321 322 329 337 339 351 352\n",
      " 359 363 366 376 395 397 399 401 403 406 411 412 413 418 425 429 442 444\n",
      " 445 450 451 456 464 465 467 470 476 482 497 499 504 525 528 534 541 554\n",
      " 556 565 567 568 569 571 583 585 586 587 592 594 595 596 597 601 606 610\n",
      " 613 626 628 632 638 652 672 674 675 678]\n",
      "Weight for class 0: 0.57\n",
      "Weight for class 1: 4.11\n",
      "Train on 543 samples, validate on 136 samples\n",
      "Epoch 1/10\n",
      "543/543 [==============================] - 6s 10ms/sample - loss: 0.6237 - acc: 0.8066 - val_loss: 0.5150 - val_acc: 0.9338\n",
      "Epoch 2/10\n",
      "543/543 [==============================] - 0s 218us/sample - loss: 0.5181 - acc: 0.8711 - val_loss: 0.4247 - val_acc: 0.8750\n",
      "Epoch 3/10\n",
      "543/543 [==============================] - 0s 223us/sample - loss: 0.4335 - acc: 0.8361 - val_loss: 0.3860 - val_acc: 0.8824\n",
      "Epoch 4/10\n",
      "543/543 [==============================] - 0s 226us/sample - loss: 0.3543 - acc: 0.8987 - val_loss: 0.2958 - val_acc: 0.9485\n",
      "Epoch 5/10\n",
      "543/543 [==============================] - 0s 227us/sample - loss: 0.2838 - acc: 0.9797 - val_loss: 0.2925 - val_acc: 0.9265\n",
      "Epoch 6/10\n",
      "543/543 [==============================] - 0s 236us/sample - loss: 0.2443 - acc: 0.9521 - val_loss: 0.2336 - val_acc: 0.9632\n",
      "Epoch 7/10\n",
      "543/543 [==============================] - 0s 257us/sample - loss: 0.2008 - acc: 0.9890 - val_loss: 0.2050 - val_acc: 0.9779\n",
      "Epoch 8/10\n",
      "543/543 [==============================] - 0s 238us/sample - loss: 0.1741 - acc: 0.9926 - val_loss: 0.1843 - val_acc: 0.9779\n",
      "Epoch 9/10\n",
      "543/543 [==============================] - 0s 256us/sample - loss: 0.1512 - acc: 0.9926 - val_loss: 0.1769 - val_acc: 0.9779\n",
      "Epoch 10/10\n",
      "543/543 [==============================] - 0s 231us/sample - loss: 0.1321 - acc: 0.9926 - val_loss: 0.1604 - val_acc: 0.9706\n",
      "136/136 [==============================] - 0s 219us/sample - loss: 0.1604 - acc: 0.9706\n",
      "acc: 97.06%\n"
     ]
    },
    {
     "data": {
      "image/png": "[encoded data removed]",
      "text/plain": [
       "<Figure size 432x288 with 1 Axes>"
      ]
     },
     "metadata": {
      "needs_background": "light"
     },
     "output_type": "display_data"
    },
    {
     "name": "stdout",
     "output_type": "stream",
     "text": [
      "TRAIN: [  1   2   3   4   5   6   7   8   9  10  11  12  13  14  15  18  19  20\n",
      "  21  22  23  24  25  27  28  29  31  35  36  37  39  40  44  47  50  51\n",
      "  52  53  54  55  56  57  58  60  61  62  65  66  67  68  70  71  72  73\n",
      "  75  77  78  79  80  81  82  83  84  85  86  89  90  91  92  93  94  95\n",
      "  96  97  98  99 101 102 104 105 108 109 110 111 112 113 114 115 116 118\n",
      " 119 120 122 124 127 128 132 133 134 136 137 139 140 141 142 143 144 145\n",
      " 146 147 149 150 151 152 153 154 156 157 158 159 160 161 162 163 164 165\n",
      " 166 167 168 169 170 173 174 175 176 177 178 179 180 181 182 184 185 187\n",
      " 188 190 191 192 193 195 197 198 199 202 203 204 206 207 208 209 210 211\n",
      " 212 213 214 215 216 217 218 219 220 221 222 223 224 225 226 228 229 230\n",
      " 233 235 236 237 238 239 240 242 243 244 245 247 248 249 250 251 253 254\n",
      " 255 256 257 258 259 262 263 264 265 266 268 269 270 271 272 273 274 276\n",
      " 277 278 279 280 281 282 283 284 286 288 290 291 292 293 294 295 296 297\n",
      " 299 300 301 302 303 304 305 306 307 308 309 311 312 313 314 315 316 317\n",
      " 319 320 321 322 323 324 325 328 329 330 331 332 333 335 336 337 338 339\n",
      " 340 341 342 343 344 345 346 347 348 349 350 351 352 353 355 356 358 359\n",
      " 361 363 364 365 366 367 368 369 371 372 374 376 378 379 380 381 382 383\n",
      " 384 385 386 387 389 390 391 392 395 397 398 399 401 403 404 405 406 407\n",
      " 408 409 410 411 412 413 414 416 417 418 419 420 421 422 423 424 425 426\n",
      " 427 428 429 430 431 433 436 437 438 439 440 441 442 444 445 447 449 450\n",
      " 451 452 453 454 455 456 458 460 461 462 463 464 465 466 467 468 469 470\n",
      " 471 472 473 474 476 477 478 479 480 481 482 486 487 490 492 493 494 496\n",
      " 497 498 499 500 501 502 503 504 506 507 508 509 512 513 515 516 517 518\n",
      " 519 520 523 524 525 526 527 528 529 530 531 532 534 535 536 539 540 541\n",
      " 542 544 545 547 549 550 551 552 554 555 556 557 559 560 561 562 563 564\n",
      " 565 566 567 568 569 571 574 575 576 577 578 579 580 581 583 585 586 587\n",
      " 588 589 590 591 592 593 594 595 596 597 598 599 600 601 602 603 604 606\n",
      " 607 608 609 610 611 613 614 615 616 617 618 619 620 622 623 624 625 626\n",
      " 628 629 631 632 633 635 637 638 640 641 642 643 644 645 646 647 649 650\n",
      " 651 652 653 654 655 656 657 658 659 661 664 665 667 668 669 672 673 674\n",
      " 675 677 678] TEST: [  0  16  17  26  30  32  33  34  38  41  42  43  45  46  48  49  59  63\n",
      "  64  69  74  76  87  88 100 103 106 107 117 121 123 125 126 129 130 131\n",
      " 135 138 148 155 171 172 183 186 189 194 196 200 201 205 227 231 232 234\n",
      " 241 246 252 260 261 267 275 285 287 289 298 310 318 326 327 334 354 357\n",
      " 360 362 370 373 375 377 388 393 394 396 400 402 415 432 434 435 443 446\n",
      " 448 457 459 475 483 484 485 488 489 491 495 505 510 511 514 521 522 533\n",
      " 537 538 543 546 548 553 558 570 572 573 582 584 605 612 621 627 630 634\n",
      " 636 639 648 660 662 663 666 670 671 676]\n",
      "Weight for class 0: 0.57\n",
      "Weight for class 1: 4.05\n",
      "Train on 543 samples, validate on 136 samples\n",
      "Epoch 1/10\n",
      "543/543 [==============================] - 6s 10ms/sample - loss: 0.6651 - acc: 0.5672 - val_loss: 0.5134 - val_acc: 0.9412\n",
      "Epoch 2/10\n",
      "543/543 [==============================] - 0s 228us/sample - loss: 0.4440 - acc: 0.9558 - val_loss: 0.3389 - val_acc: 0.9853\n",
      "Epoch 3/10\n",
      "543/543 [==============================] - 0s 221us/sample - loss: 0.3504 - acc: 0.9650 - val_loss: 0.2634 - val_acc: 0.9853\n",
      "Epoch 4/10\n",
      "543/543 [==============================] - 0s 218us/sample - loss: 0.2592 - acc: 0.9853 - val_loss: 0.2213 - val_acc: 0.9853\n",
      "Epoch 5/10\n",
      "543/543 [==============================] - 0s 241us/sample - loss: 0.2046 - acc: 0.9945 - val_loss: 0.1679 - val_acc: 0.9853\n",
      "Epoch 6/10\n",
      "543/543 [==============================] - 0s 224us/sample - loss: 0.1731 - acc: 0.9945 - val_loss: 0.1657 - val_acc: 0.9853\n",
      "Epoch 7/10\n",
      "543/543 [==============================] - 0s 218us/sample - loss: 0.1417 - acc: 0.9963 - val_loss: 0.1400 - val_acc: 0.9853\n",
      "Epoch 8/10\n",
      "543/543 [==============================] - 0s 221us/sample - loss: 0.1162 - acc: 0.9963 - val_loss: 0.1350 - val_acc: 0.9853\n",
      "Epoch 9/10\n",
      "543/543 [==============================] - 0s 217us/sample - loss: 0.0986 - acc: 0.9982 - val_loss: 0.1170 - val_acc: 0.9853\n",
      "Epoch 10/10\n",
      "543/543 [==============================] - 0s 221us/sample - loss: 0.0848 - acc: 0.9982 - val_loss: 0.1135 - val_acc: 0.9779\n",
      "136/136 [==============================] - 0s 239us/sample - loss: 0.1135 - acc: 0.9779\n",
      "acc: 97.79%\n"
     ]
    },
    {
     "data": {
      "image/png": "[encoded data removed]",
      "text/plain": [
       "<Figure size 432x288 with 1 Axes>"
      ]
     },
     "metadata": {
      "needs_background": "light"
     },
     "output_type": "display_data"
    },
    {
     "name": "stdout",
     "output_type": "stream",
     "text": [
      "TRAIN: [  0   1   2   3   4   5   6  10  11  14  15  16  17  18  19  20  21  23\n",
      "  24  25  26  27  30  31  32  33  34  35  37  38  39  41  42  43  44  45\n",
      "  46  47  48  49  50  51  53  54  56  57  58  59  60  61  62  63  64  65\n",
      "  67  69  70  74  76  77  78  79  80  82  83  84  86  87  88  90  91  92\n",
      "  93  95  96  97  98  99 100 101 102 103 104 105 106 107 108 109 110 111\n",
      " 112 114 116 117 119 120 121 122 123 124 125 126 127 128 129 130 131 132\n",
      " 133 135 136 137 138 140 144 145 146 147 148 149 150 151 152 153 155 156\n",
      " 157 158 159 160 161 162 163 164 165 169 170 171 172 174 175 176 177 178\n",
      " 182 183 184 185 186 187 188 189 191 192 193 194 196 197 199 200 201 203\n",
      " 204 205 206 207 210 211 212 213 214 215 216 217 218 219 220 221 223 224\n",
      " 226 227 228 229 230 231 232 234 235 236 237 238 241 242 243 244 245 246\n",
      " 247 248 249 250 252 256 257 258 259 260 261 262 263 264 265 266 267 268\n",
      " 269 270 271 274 275 276 277 278 279 281 283 284 285 286 287 288 289 291\n",
      " 292 293 294 296 297 298 300 301 302 303 304 305 306 307 308 309 310 311\n",
      " 312 313 314 315 317 318 319 320 321 322 323 326 327 328 329 331 333 334\n",
      " 335 337 338 339 340 341 342 343 344 345 346 348 350 351 352 353 354 355\n",
      " 356 357 358 359 360 362 363 364 365 366 367 368 369 370 372 373 374 375\n",
      " 376 377 378 379 381 382 383 384 385 386 387 388 389 390 391 392 393 394\n",
      " 395 396 397 398 399 400 401 402 403 405 406 407 408 410 411 412 413 414\n",
      " 415 416 417 418 420 421 425 426 428 429 431 432 433 434 435 436 437 438\n",
      " 440 441 442 443 444 445 446 448 449 450 451 452 453 456 457 458 459 460\n",
      " 461 464 465 467 470 471 472 473 474 475 476 477 479 482 483 484 485 487\n",
      " 488 489 491 493 495 496 497 498 499 500 503 504 505 506 509 510 511 513\n",
      " 514 515 516 517 518 519 520 521 522 523 524 525 527 528 529 530 531 533\n",
      " 534 536 537 538 539 540 541 542 543 544 545 546 548 549 552 553 554 555\n",
      " 556 558 559 561 562 563 564 565 566 567 568 569 570 571 572 573 574 578\n",
      " 579 580 582 583 584 585 586 587 591 592 593 594 595 596 597 600 601 602\n",
      " 603 605 606 608 609 610 612 613 614 617 618 620 621 622 624 626 627 628\n",
      " 629 630 631 632 633 634 636 637 638 639 640 641 643 647 648 650 651 652\n",
      " 653 654 655 656 657 659 660 662 663 664 665 666 667 670 671 672 673 674\n",
      " 675 676 677 678] TEST: [  7   8   9  12  13  22  28  29  36  40  52  55  66  68  71  72  73  75\n",
      "  81  85  89  94 113 115 118 134 139 141 142 143 154 166 167 168 173 179\n",
      " 180 181 190 195 198 202 208 209 222 225 233 239 240 251 253 254 255 272\n",
      " 273 280 282 290 295 299 316 324 325 330 332 336 347 349 361 371 380 404\n",
      " 409 419 422 423 424 427 430 439 447 454 455 462 463 466 468 469 478 480\n",
      " 481 486 490 492 494 501 502 507 508 512 526 532 535 547 550 551 557 560\n",
      " 575 576 577 581 588 589 590 598 599 604 607 611 615 616 619 623 625 635\n",
      " 642 644 645 646 649 658 661 668 669]\n",
      "Weight for class 0: 0.57\n",
      "Weight for class 1: 4.06\n",
      "Train on 544 samples, validate on 135 samples\n",
      "Epoch 1/10\n",
      "544/544 [==============================] - 6s 10ms/sample - loss: 0.6617 - acc: 0.6912 - val_loss: 0.5437 - val_acc: 0.8222\n",
      "Epoch 2/10\n",
      "544/544 [==============================] - 0s 227us/sample - loss: 0.5154 - acc: 0.9007 - val_loss: 0.4055 - val_acc: 0.9407\n",
      "Epoch 3/10\n",
      "544/544 [==============================] - 0s 220us/sample - loss: 0.4234 - acc: 0.9467 - val_loss: 0.3454 - val_acc: 0.9556\n",
      "Epoch 4/10\n",
      "544/544 [==============================] - 0s 227us/sample - loss: 0.3439 - acc: 0.9614 - val_loss: 0.2644 - val_acc: 0.9778\n",
      "Epoch 5/10\n",
      "544/544 [==============================] - 0s 217us/sample - loss: 0.2884 - acc: 0.9835 - val_loss: 0.2250 - val_acc: 0.9704\n",
      "Epoch 6/10\n",
      "544/544 [==============================] - 0s 218us/sample - loss: 0.2420 - acc: 0.9871 - val_loss: 0.1943 - val_acc: 0.9778\n",
      "Epoch 7/10\n",
      "544/544 [==============================] - 0s 234us/sample - loss: 0.2057 - acc: 0.9926 - val_loss: 0.1753 - val_acc: 0.9852\n",
      "Epoch 8/10\n",
      "544/544 [==============================] - 0s 213us/sample - loss: 0.1778 - acc: 0.9945 - val_loss: 0.1528 - val_acc: 0.9852\n",
      "Epoch 9/10\n",
      "544/544 [==============================] - 0s 227us/sample - loss: 0.1532 - acc: 0.9963 - val_loss: 0.1358 - val_acc: 0.9852\n",
      "Epoch 10/10\n",
      "544/544 [==============================] - 0s 218us/sample - loss: 0.1319 - acc: 0.9963 - val_loss: 0.1255 - val_acc: 0.9852\n",
      "135/135 [==============================] - 0s 260us/sample - loss: 0.1255 - acc: 0.9852\n",
      "acc: 98.52%\n"
     ]
    },
    {
     "data": {
      "image/png": "[encoded data removed]",
      "text/plain": [
       "<Figure size 432x288 with 1 Axes>"
      ]
     },
     "metadata": {
      "needs_background": "light"
     },
     "output_type": "display_data"
    }
   ],
   "source": [
    "# fix random seed for reproducibility\n",
    "seed = 7\n",
    "\n",
    "\n",
    "# define 10-fold cross validation test harness\n",
    "skf = StratifiedKFold(n_splits=5,random_state=7,shuffle=True)\n",
    "k=1\n",
    "\n",
    "\n",
    "\n",
    "for train_index, test_index in skf.split(padded,y):\n",
    "    print(\"TRAIN:\", train_index, \"TEST:\", test_index)\n",
    "    X_train, X_test = padded[train_index], padded[test_index]\n",
    "    y_train, y_test = y[train_index], y[test_index]\n",
    "    \n",
    "    neg = len(y_train[y_train==0])\n",
    "    pos= len(y_train[y_train!=0])\n",
    "    total=len(y_train)\n",
    "    \n",
    "    weight_for_0 = (1 / neg) * (total / 2.0)\n",
    "    weight_for_1 = (1 / pos) * (total / 2.0)\n",
    "\n",
    "    class_weight = {0: weight_for_0, 1: weight_for_1}\n",
    "\n",
    "    print('Weight for class 0: {:.2f}'.format(weight_for_0))\n",
    "    print('Weight for class 1: {:.2f}'.format(weight_for_1))\n",
    "\n",
    "    \n",
    "    model= tf.keras.Sequential([tf.keras.layers.SimpleRNN(20,return_sequences=True,input_shape=[padded.shape[1],padded.shape[2]]),\n",
    "           tf.keras.layers.SimpleRNN(10),tf.keras.layers.Dense(1, activation='sigmoid')])\n",
    "\n",
    "    model.compile(loss='binary_crossentropy',optimizer='adam',metrics=['accuracy'])\n",
    "    # Fit the model\n",
    "\n",
    "\n",
    "    # simple early stopping\n",
    "    #es = EarlyStopping(monitor='val_loss', mode='min', verbose=1, patience=10)\n",
    "    #mc = ModelCheckpoint('LSTM.h5', monitor='val_accuracy', mode='max', verbose=1, save_best_only=True)\n",
    "\n",
    "\n",
    "    history=model.fit(X_train, y_train, epochs=10,batch_size=100,validation_data=(X_test, y_test),class_weight=class_weight)\n",
    "    # evaluate the model\n",
    "    #saved_model = load_model('best_model.h5')\n",
    "\n",
    "    scores = model.evaluate(X_test, y_test)\n",
    "    print(\"%s: %.2f%%\" % (model.metrics_names[1], scores[1]*100))\n",
    "\n",
    "    y_pred = model.predict_classes(X_test)\n",
    "    cm=confusion_matrix(y_test, y_pred)\n",
    "    \n",
    "    y_score=model.predict(X_test)\n",
    "\n",
    "    from sklearn.metrics import roc_curve, auc\n",
    "\n",
    "\n",
    "    fpr, tpr, _ = roc_curve(y_test, y_score)\n",
    "    roc_auc = auc(fpr, tpr)\n",
    "    \n",
    "    \n",
    "    plt.figure()\n",
    "    lw = 2\n",
    "    plt.plot(fpr, tpr, color='darkorange',\n",
    "             lw=lw, label='ROC curve (area = %0.2f)' % roc_auc)\n",
    "    plt.plot([0, 1], [0, 1], color='navy', lw=lw, linestyle='--')\n",
    "    plt.xlim([0.0, 1.0])\n",
    "    plt.ylim([0.0, 1.05])\n",
    "    plt.xlabel('False Positive Rate')\n",
    "    plt.ylabel('True Positive Rate')\n",
    "    plt.title('Receiver operating characteristic example')\n",
    "    plt.legend(loc=\"lower right\")\n",
    "    plt.show()\n"
   ]
  },
  {
   "cell_type": "markdown",
   "metadata": {},
   "source": [
    "# Multi-Classification"
   ]
  },
  {
   "cell_type": "code",
   "execution_count": 142,
   "metadata": {},
   "outputs": [
    {
     "name": "stdout",
     "output_type": "stream",
     "text": [
      "Number of columns before drop 34\n",
      "Number of columns after drop 16\n",
      "Maximum sequence must be less than 60. In our case, it is 18\n",
      "(array([ 1,  2,  4,  6,  8, 10, 12, 14, 18]), array([190, 431,  69,  10,   2,   1,   2,   5,   2]))\n",
      "(712, 60, 195)\n"
     ]
    }
   ],
   "source": [
    "data=pd.read_csv(\"erroronevent1.csv\")\n",
    "data=data.drop(columns=\"Unnamed: 0\")\n",
    "\n",
    "print(\"Number of columns before drop \" + str(len(data.columns)))\n",
    "\n",
    "data.drop(columns=[ 'length','Type', 'timesensitive','client_min',\n",
    "       'client_max', 'client_resendMin', 'client_resendMax', 'errorRate',\n",
    "       'server_min', 'server_max', 'client_mac', 'client_ip',\n",
    "       'client_send_port', 'client_rec_port', 'server_mac', 'server_ip',\n",
    "       'server_send_port', 'server_rec_port'],inplace=True)\n",
    "\n",
    "print(\"Number of columns after drop \" + str(len(data.columns)))\n",
    "\n",
    "x,y=preprocess(data,0)\n",
    "\n",
    "#Max Length\n",
    "length=[]\n",
    "for i in range(len(x)):\n",
    "    length.append(x[i].shape[0])\n",
    "\n",
    "print(\"Maximum sequence must be less than 60. In our case, it is \" + str(max(length)))\n",
    "\n",
    "print(np.unique(np.array(length),return_counts=True))\n",
    "\n",
    "# Pad Sequences by 0 (Post padding)\n",
    "\n",
    "\n",
    "padded = tf.keras.preprocessing.sequence.pad_sequences(x, padding='post',maxlen=60)\n",
    "print(padded.shape)"
   ]
  },
  {
   "cell_type": "code",
   "execution_count": 143,
   "metadata": {},
   "outputs": [
    {
     "name": "stdout",
     "output_type": "stream",
     "text": [
      "Number of columns before drop 34\n",
      "Number of columns after drop 16\n",
      "Maximum sequence must be less than 60. In our case, it is 52\n",
      "(array([ 1,  2,  4,  6,  8, 10, 12, 14, 16, 18, 20, 24, 34, 52]), array([250, 380,  31,   3,  17,   6,   8,   4,   1,   2,   2,   1,   1,\n",
      "         1]))\n",
      "(707, 60, 195)\n"
     ]
    }
   ],
   "source": [
    "data=pd.read_csv(\"erroronerror1.csv\")\n",
    "data=data.drop(columns=\"Unnamed: 0\")\n",
    "\n",
    "print(\"Number of columns before drop \" + str(len(data.columns)))\n",
    "\n",
    "data.drop(columns=[ 'length','Type', 'timesensitive','client_min',\n",
    "       'client_max', 'client_resendMin', 'client_resendMax', 'errorRate',\n",
    "       'server_min', 'server_max', 'client_mac', 'client_ip',\n",
    "       'client_send_port', 'client_rec_port', 'server_mac', 'server_ip',\n",
    "       'server_send_port', 'server_rec_port'],inplace=True)\n",
    "\n",
    "print(\"Number of columns after drop \" + str(len(data.columns)))\n",
    "\n",
    "x_error,y_error=preprocess(data,1)\n",
    "\n",
    "#Max Length\n",
    "length=[]\n",
    "for i in range(len(x_error)):\n",
    "    length.append(x_error[i].shape[0])\n",
    "\n",
    "print(\"Maximum sequence must be less than 60. In our case, it is \" + str(max(length)))\n",
    "\n",
    "print(np.unique(np.array(length),return_counts=True))\n",
    "\n",
    "# Pad Sequences by 0 (Post padding)\n",
    "\n",
    "\n",
    "padded_error = tf.keras.preprocessing.sequence.pad_sequences(x_error, padding='post',maxlen=60)\n",
    "print(padded_error.shape)\n",
    "\n",
    "y_error=2*y_error"
   ]
  },
  {
   "cell_type": "code",
   "execution_count": 144,
   "metadata": {},
   "outputs": [
    {
     "name": "stdout",
     "output_type": "stream",
     "text": [
      "Number of columns before drop 34\n",
      "Number of columns after drop 16\n",
      "Maximum sequence must be less than 60. In our case, it is 25\n",
      "(array([ 1,  2,  3,  4,  5,  6,  7,  8,  9, 10, 12, 14, 18, 19, 25]), array([324, 306,  10,  49,   4,   6,   1,   1,   1,   1,   1,   2,   1,\n",
      "         1,   1]))\n",
      "(712, 60, 195)\n"
     ]
    }
   ],
   "source": [
    "data=pd.read_csv(\"missing_response1.csv\")\n",
    "data=data.drop(columns=\"Unnamed: 0\")\n",
    "\n",
    "print(\"Number of columns before drop \" + str(len(data.columns)))\n",
    "\n",
    "data.drop(columns=[ 'length','Type', 'timesensitive','client_min',\n",
    "       'client_max', 'client_resendMin', 'client_resendMax', 'errorRate',\n",
    "       'server_min', 'server_max', 'client_mac', 'client_ip',\n",
    "       'client_send_port', 'client_rec_port', 'server_mac', 'server_ip',\n",
    "       'server_send_port', 'server_rec_port'],inplace=True)\n",
    "\n",
    "print(\"Number of columns after drop \" + str(len(data.columns)))\n",
    "\n",
    "x_response,y_response=preprocess(data,0)\n",
    "\n",
    "#Max Length\n",
    "length=[]\n",
    "for i in range(len(x_response)):\n",
    "    length.append(x_response[i].shape[0])\n",
    "\n",
    "print(\"Maximum sequence must be less than 60. In our case, it is \" + str(max(length)))\n",
    "\n",
    "print(np.unique(np.array(length),return_counts=True))\n",
    "\n",
    "# Pad Sequences by 0 (Post padding)\n",
    "\n",
    "\n",
    "padded_response = tf.keras.preprocessing.sequence.pad_sequences(x_response, padding='post',maxlen=60)\n",
    "print(padded.shape)\n",
    "\n",
    "y_response=3*y_response"
   ]
  },
  {
   "cell_type": "code",
   "execution_count": 160,
   "metadata": {},
   "outputs": [
    {
     "name": "stdout",
     "output_type": "stream",
     "text": [
      "Number of columns before drop 34\n",
      "Number of columns after drop 16\n",
      "Maximum sequence must be less than 60. In our case, it is 27\n",
      "(array([ 1,  2,  3,  4,  5,  6,  7,  8, 14, 16, 17, 25, 27]), array([294, 274,  23,  66,   5,  10,   1,   1,   1,   1,   1,   1,   1]))\n",
      "(679, 60, 195)\n"
     ]
    }
   ],
   "source": [
    "data=pd.read_csv(\"missing_request3.csv\")\n",
    "data=data.drop(columns=\"Unnamed: 0\")\n",
    "\n",
    "print(\"Number of columns before drop \" + str(len(data.columns)))\n",
    "\n",
    "data.drop(columns=[ 'length','Type', 'timesensitive','client_min',\n",
    "       'client_max', 'client_resendMin', 'client_resendMax', 'errorRate',\n",
    "       'server_min', 'server_max', 'client_mac', 'client_ip',\n",
    "       'client_send_port', 'client_rec_port', 'server_mac', 'server_ip',\n",
    "       'server_send_port', 'server_rec_port'],inplace=True)\n",
    "\n",
    "print(\"Number of columns after drop \" + str(len(data.columns)))\n",
    "\n",
    "x_request,y_request=preprocess(data,0)\n",
    "\n",
    "#Max Length\n",
    "length=[]\n",
    "for i in range(len(x_request)):\n",
    "    length.append(x_request[i].shape[0])\n",
    "\n",
    "print(\"Maximum sequence must be less than 60. In our case, it is \" + str(max(length)))\n",
    "\n",
    "print(np.unique(np.array(length),return_counts=True))\n",
    "\n",
    "# Pad Sequences by 0 (Post padding)\n",
    "\n",
    "\n",
    "padded_request = tf.keras.preprocessing.sequence.pad_sequences(x_request, padding='post',maxlen=60)\n",
    "print(padded.shape)\n",
    "\n",
    "y_request=4*y_request"
   ]
  },
  {
   "cell_type": "code",
   "execution_count": 161,
   "metadata": {},
   "outputs": [
    {
     "name": "stdout",
     "output_type": "stream",
     "text": [
      "(2774, 60, 195)\n",
      "(2774, 1)\n"
     ]
    }
   ],
   "source": [
    "X_total=np.concatenate((padded,padded_error,padded_response,padded_request))\n",
    "Y_total=np.concatenate((y,y_error,y_response,y_request))\n",
    "\n",
    "print(X_total.shape)\n",
    "print(Y_total.shape)"
   ]
  },
  {
   "cell_type": "code",
   "execution_count": 162,
   "metadata": {},
   "outputs": [
    {
     "name": "stderr",
     "output_type": "stream",
     "text": [
      "/home/alkhatib/.local/lib/python3.7/site-packages/sklearn/utils/validation.py:63: DataConversionWarning: A column-vector y was passed when a 1d array was expected. Please change the shape of y to (n_samples, ), for example using ravel().\n",
      "  return f(*args, **kwargs)\n"
     ]
    }
   ],
   "source": [
    "encoder=LabelEncoder()\n",
    "encoder.fit(Y_total)\n",
    "encoded_y=encoder.transform(Y_total)\n",
    "dummy_y=tf.keras.utils.to_categorical(encoded_y)"
   ]
  },
  {
   "cell_type": "code",
   "execution_count": 163,
   "metadata": {},
   "outputs": [],
   "source": [
    "X_train, X_test, y_train, y_test = train_test_split(X_total, dummy_y, test_size=0.2, random_state=42,stratify=dummy_y)"
   ]
  },
  {
   "cell_type": "code",
   "execution_count": 164,
   "metadata": {},
   "outputs": [
    {
     "data": {
      "text/plain": [
       "(array([[0., 0., 0., 0., 1.],\n",
       "        [0., 0., 0., 1., 0.],\n",
       "        [0., 0., 1., 0., 0.],\n",
       "        [0., 1., 0., 0., 0.],\n",
       "        [1., 0., 0., 0., 0.]], dtype=float32),\n",
       " array([  83,   92,   39,   83, 2477]))"
      ]
     },
     "execution_count": 164,
     "metadata": {},
     "output_type": "execute_result"
    }
   ],
   "source": [
    "np.unique(dummy_y,axis=0,return_counts=True)"
   ]
  },
  {
   "cell_type": "code",
   "execution_count": 165,
   "metadata": {},
   "outputs": [
    {
     "data": {
      "text/plain": [
       "(array([[0.],\n",
       "        [1.],\n",
       "        [2.],\n",
       "        [3.],\n",
       "        [4.]]), array([2477,   83,   39,   92,   83]))"
      ]
     },
     "execution_count": 165,
     "metadata": {},
     "output_type": "execute_result"
    }
   ],
   "source": [
    "np.unique(Y_total,axis=0,return_counts=True)"
   ]
  },
  {
   "cell_type": "code",
   "execution_count": 106,
   "metadata": {},
   "outputs": [
    {
     "data": {
      "text/plain": [
       "43"
      ]
     },
     "execution_count": 106,
     "metadata": {},
     "output_type": "execute_result"
    }
   ],
   "source": [
    "np.unique(y_train,axis=0,return_counts=True)[1][1]"
   ]
  },
  {
   "cell_type": "code",
   "execution_count": 112,
   "metadata": {},
   "outputs": [
    {
     "data": {
      "text/plain": [
       "array([1., 0., 0.], dtype=float32)"
      ]
     },
     "execution_count": 112,
     "metadata": {},
     "output_type": "execute_result"
    }
   ],
   "source": [
    "np.unique(y_train,axis=0,return_counts=True)[0][2]"
   ]
  },
  {
   "cell_type": "code",
   "execution_count": 179,
   "metadata": {},
   "outputs": [
    {
     "name": "stdout",
     "output_type": "stream",
     "text": [
      "Weight for class 0: 0.22\n",
      "Weight for class 1: 6.72\n",
      "Weight for class 2: 14.32\n",
      "Weight for class 3: 6.00\n",
      "Weight for class 4: 6.72\n",
      "Train on 2219 samples, validate on 555 samples\n",
      "Epoch 1/50\n",
      "2219/2219 [==============================] - 6s 3ms/sample - loss: 1.4330 - acc: 0.5719 - val_loss: 1.1386 - val_acc: 0.7423\n",
      "Epoch 2/50\n",
      "2219/2219 [==============================] - 0s 224us/sample - loss: 1.2320 - acc: 0.8175 - val_loss: 0.8597 - val_acc: 0.8595\n",
      "Epoch 3/50\n",
      "2219/2219 [==============================] - 1s 240us/sample - loss: 0.9844 - acc: 0.9279 - val_loss: 0.5603 - val_acc: 0.9532\n",
      "Epoch 4/50\n",
      "2219/2219 [==============================] - 1s 241us/sample - loss: 0.8498 - acc: 0.9464 - val_loss: 0.4715 - val_acc: 0.9532\n",
      "Epoch 5/50\n",
      "2219/2219 [==============================] - 1s 243us/sample - loss: 0.7554 - acc: 0.9581 - val_loss: 0.4421 - val_acc: 0.9423\n",
      "Epoch 6/50\n",
      "2219/2219 [==============================] - 1s 234us/sample - loss: 0.6387 - acc: 0.9576 - val_loss: 0.3368 - val_acc: 0.9514\n",
      "Epoch 7/50\n",
      "2219/2219 [==============================] - 1s 227us/sample - loss: 0.5945 - acc: 0.9549 - val_loss: 0.3510 - val_acc: 0.9423\n",
      "Epoch 8/50\n",
      "2219/2219 [==============================] - 1s 230us/sample - loss: 0.5546 - acc: 0.9585 - val_loss: 0.2513 - val_acc: 0.9495\n",
      "Epoch 9/50\n",
      "2219/2219 [==============================] - 1s 230us/sample - loss: 0.4906 - acc: 0.9626 - val_loss: 0.2698 - val_acc: 0.9315\n",
      "Epoch 10/50\n",
      "2219/2219 [==============================] - 1s 242us/sample - loss: 0.4751 - acc: 0.9603 - val_loss: 0.2118 - val_acc: 0.9459\n",
      "Epoch 11/50\n",
      "2219/2219 [==============================] - 1s 236us/sample - loss: 0.4144 - acc: 0.9694 - val_loss: 0.2048 - val_acc: 0.9405\n",
      "Epoch 12/50\n",
      "2219/2219 [==============================] - 1s 231us/sample - loss: 0.4038 - acc: 0.9621 - val_loss: 0.1942 - val_acc: 0.9459\n",
      "Epoch 13/50\n",
      "2219/2219 [==============================] - 1s 246us/sample - loss: 0.3803 - acc: 0.9676 - val_loss: 0.1771 - val_acc: 0.9423\n",
      "Epoch 14/50\n",
      "2219/2219 [==============================] - 1s 238us/sample - loss: 0.3660 - acc: 0.9630 - val_loss: 0.1629 - val_acc: 0.9477\n",
      "Epoch 15/50\n",
      "2219/2219 [==============================] - 1s 232us/sample - loss: 0.3524 - acc: 0.9671 - val_loss: 0.1660 - val_acc: 0.9459\n",
      "Epoch 16/50\n",
      "2219/2219 [==============================] - 1s 230us/sample - loss: 0.3411 - acc: 0.9685 - val_loss: 0.1527 - val_acc: 0.9423\n",
      "Epoch 17/50\n",
      "2219/2219 [==============================] - 1s 229us/sample - loss: 0.3358 - acc: 0.9685 - val_loss: 0.1532 - val_acc: 0.9441\n",
      "Epoch 18/50\n",
      "2219/2219 [==============================] - 1s 240us/sample - loss: 0.3295 - acc: 0.9676 - val_loss: 0.1423 - val_acc: 0.9441\n",
      "Epoch 19/50\n",
      "2219/2219 [==============================] - 0s 223us/sample - loss: 0.3251 - acc: 0.9667 - val_loss: 0.1400 - val_acc: 0.9459\n",
      "Epoch 20/50\n",
      "2219/2219 [==============================] - 1s 228us/sample - loss: 0.3216 - acc: 0.9694 - val_loss: 0.1401 - val_acc: 0.9459\n",
      "Epoch 21/50\n",
      "2219/2219 [==============================] - 1s 229us/sample - loss: 0.3167 - acc: 0.9694 - val_loss: 0.1398 - val_acc: 0.9459\n",
      "Epoch 22/50\n",
      "2219/2219 [==============================] - 1s 231us/sample - loss: 0.3149 - acc: 0.9685 - val_loss: 0.1362 - val_acc: 0.9459\n",
      "Epoch 23/50\n",
      "2219/2219 [==============================] - 1s 230us/sample - loss: 0.3107 - acc: 0.9680 - val_loss: 0.1394 - val_acc: 0.9441\n",
      "Epoch 24/50\n",
      "2219/2219 [==============================] - 1s 266us/sample - loss: 0.3086 - acc: 0.9689 - val_loss: 0.1349 - val_acc: 0.9441\n",
      "Epoch 25/50\n",
      "2219/2219 [==============================] - 1s 230us/sample - loss: 0.3061 - acc: 0.9703 - val_loss: 0.1344 - val_acc: 0.9441\n",
      "Epoch 26/50\n",
      "2219/2219 [==============================] - 1s 231us/sample - loss: 0.3035 - acc: 0.9712 - val_loss: 0.1399 - val_acc: 0.9441\n",
      "Epoch 27/50\n",
      "2219/2219 [==============================] - 1s 236us/sample - loss: 0.3023 - acc: 0.9689 - val_loss: 0.1403 - val_acc: 0.9441\n",
      "Epoch 28/50\n",
      "2219/2219 [==============================] - 1s 260us/sample - loss: 0.3080 - acc: 0.9712 - val_loss: 0.1224 - val_acc: 0.9459\n",
      "Epoch 29/50\n",
      "2219/2219 [==============================] - 1s 250us/sample - loss: 0.3038 - acc: 0.9676 - val_loss: 0.1216 - val_acc: 0.9369\n",
      "Epoch 30/50\n",
      "2219/2219 [==============================] - 1s 244us/sample - loss: 0.3075 - acc: 0.9689 - val_loss: 0.1264 - val_acc: 0.9423\n",
      "Epoch 31/50\n",
      "2219/2219 [==============================] - 1s 244us/sample - loss: 0.3004 - acc: 0.9707 - val_loss: 0.1236 - val_acc: 0.9459\n",
      "Epoch 32/50\n",
      "2219/2219 [==============================] - 1s 249us/sample - loss: 0.2954 - acc: 0.9721 - val_loss: 0.1236 - val_acc: 0.9441\n",
      "Epoch 33/50\n",
      "2219/2219 [==============================] - 1s 248us/sample - loss: 0.2933 - acc: 0.9748 - val_loss: 0.1348 - val_acc: 0.9369\n",
      "Epoch 34/50\n",
      "2219/2219 [==============================] - 1s 238us/sample - loss: 0.2921 - acc: 0.9757 - val_loss: 0.1385 - val_acc: 0.9514\n",
      "Epoch 35/50\n",
      "2219/2219 [==============================] - 1s 237us/sample - loss: 0.2988 - acc: 0.9698 - val_loss: 0.1310 - val_acc: 0.9459\n",
      "Epoch 36/50\n",
      "2219/2219 [==============================] - 1s 231us/sample - loss: 0.3092 - acc: 0.9685 - val_loss: 0.1843 - val_acc: 0.9369\n",
      "Epoch 37/50\n",
      "2219/2219 [==============================] - 1s 229us/sample - loss: 0.3890 - acc: 0.9626 - val_loss: 0.1518 - val_acc: 0.9369\n",
      "Epoch 38/50\n",
      "2219/2219 [==============================] - 1s 231us/sample - loss: 0.3745 - acc: 0.9585 - val_loss: 0.1848 - val_acc: 0.9387\n",
      "Epoch 39/50\n",
      "2219/2219 [==============================] - 1s 226us/sample - loss: 0.3544 - acc: 0.9585 - val_loss: 0.1722 - val_acc: 0.9315\n",
      "Epoch 00039: early stopping\n",
      "[481   0   5   9   0   0   0   0   0  17   0   0   7   1   0   0   0   0\n",
      "  18   0   2   3   1   0  11]\n"
     ]
    },
    {
     "data": {
      "text/plain": [
       "<sklearn.metrics._plot.confusion_matrix.ConfusionMatrixDisplay at 0x7f0fa0a549e8>"
      ]
     },
     "execution_count": 179,
     "metadata": {},
     "output_type": "execute_result"
    },
    {
     "data": {
      "image/png": "[encoded data removed]",
      "text/plain": [
       "<Figure size 432x288 with 2 Axes>"
      ]
     },
     "metadata": {
      "needs_background": "light"
     },
     "output_type": "display_data"
    }
   ],
   "source": [
    "# Class Weight for Data Imbalancing\n",
    "normal = np.unique(y_train,axis=0,return_counts=True)[1][4]\n",
    "event  =  np.unique(y_train,axis=0,return_counts=True)[1][3]\n",
    "error = np.unique(y_train,axis=0,return_counts=True)[1][2]\n",
    "response  =  np.unique(y_train,axis=0,return_counts=True)[1][1]\n",
    "request  =  np.unique(y_train,axis=0,return_counts=True)[1][0]\n",
    "\n",
    "total=len(X_train)\n",
    "\n",
    "weight_for_0 = (1 / normal) * (total / 5.0)\n",
    "weight_for_1 = (1 / event) * (total / 5.0)\n",
    "weight_for_2 = (1 / error) * (total / 5.0)\n",
    "weight_for_3 = (1 / response) * (total / 5.0)\n",
    "weight_for_4 = (1 / request) * (total / 5.0)\n",
    "\n",
    "class_weight = {0: weight_for_0, 1: weight_for_1, 2:weight_for_2, 3:weight_for_3, 4:weight_for_4}\n",
    "\n",
    "print('Weight for class 0: {:.2f}'.format(weight_for_0))\n",
    "print('Weight for class 1: {:.2f}'.format(weight_for_1))\n",
    "print('Weight for class 2: {:.2f}'.format(weight_for_2))\n",
    "print('Weight for class 3: {:.2f}'.format(weight_for_3))\n",
    "print('Weight for class 4: {:.2f}'.format(weight_for_4))\n",
    "\n",
    "\n",
    "\n",
    "# Deep Learning \n",
    "model= tf.keras.Sequential([tf.keras.layers.SimpleRNN(50,return_sequences=True,input_shape=[X_train.shape[1],X_train.shape[2]]),\n",
    "           tf.keras.layers.SimpleRNN(10),tf.keras.layers.Dense(5, activation='softmax')])\n",
    "\n",
    "model.compile(loss='categorical_crossentropy',optimizer='adam',metrics=['accuracy'])\n",
    "# Fit the model\n",
    "\n",
    "\n",
    "# simple early stopping\n",
    "es = tf.keras.callbacks.EarlyStopping(monitor='val_loss', mode='min', verbose=1, patience=10)\n",
    "#mc = ModelCheckpoint('LSTM.h5', monitor='val_accuracy', mode='max', verbose=1, save_best_only=True)\n",
    "\n",
    "\n",
    "history=model.fit(X_train, y_train, epochs=50,batch_size=100,validation_data=(X_test, y_test),class_weight=class_weight,callbacks=[es])\n",
    "# evaluate the model\n",
    "#saved_model = load_model('best_model.h5')\n",
    "\n",
    "l=[]\n",
    "for i in y_test:\n",
    "    l.append(np.argmax(i))\n",
    "k=np.array(l)\n",
    "\n",
    "# Multiclass\n",
    "y_pred = model.predict_classes(X_test)\n",
    "cm=confusion_matrix(k, y_pred)\n",
    "\n",
    "print(cm.ravel())\n",
    "\n",
    "disp = ConfusionMatrixDisplay(confusion_matrix=cm)    \n",
    "disp.plot() "
   ]
  },
  {
   "cell_type": "code",
   "execution_count": 180,
   "metadata": {},
   "outputs": [
    {
     "name": "stdout",
     "output_type": "stream",
     "text": [
      "[1961    0    7   11    3    3    9    1    0   53    0    0   30    1\n",
      "    0    0    0    1   73    0    1    6    0    0   59]\n"
     ]
    },
    {
     "data": {
      "text/plain": [
       "<sklearn.metrics._plot.confusion_matrix.ConfusionMatrixDisplay at 0x7f0f9ff958d0>"
      ]
     },
     "execution_count": 180,
     "metadata": {},
     "output_type": "execute_result"
    },
    {
     "data": {
      "image/png": "[encoded data removed]",
      "text/plain": [
       "<Figure size 432x288 with 2 Axes>"
      ]
     },
     "metadata": {
      "needs_background": "light"
     },
     "output_type": "display_data"
    }
   ],
   "source": [
    "l=[]\n",
    "for i in y_train:\n",
    "    l.append(np.argmax(i))\n",
    "k=np.array(l)\n",
    "\n",
    "# Multiclass\n",
    "y_pred = model.predict_classes(X_train)\n",
    "cm=confusion_matrix(k, y_pred)\n",
    "\n",
    "print(cm.ravel())\n",
    "\n",
    "disp = ConfusionMatrixDisplay(confusion_matrix=cm)    \n",
    "disp.plot() "
   ]
  },
  {
   "cell_type": "code",
   "execution_count": 181,
   "metadata": {},
   "outputs": [
    {
     "data": {
      "image/png": "[encoded data removed]",
      "text/plain": [
       "<Figure size 432x288 with 1 Axes>"
      ]
     },
     "metadata": {
      "needs_background": "light"
     },
     "output_type": "display_data"
    }
   ],
   "source": [
    "y_score=model.predict(X_test)\n",
    "\n",
    "from sklearn.metrics import roc_curve, auc\n",
    "\n",
    "# Compute ROC curve and ROC area for each class\n",
    "fpr = dict()\n",
    "tpr = dict()\n",
    "roc_auc = dict()\n",
    "for i in range(5):\n",
    "    fpr[i], tpr[i], _ = roc_curve(y_test[:, i], y_score[:, i])\n",
    "    roc_auc[i] = auc(fpr[i], tpr[i])\n",
    "\n",
    "plt.figure()\n",
    "lw = 2\n",
    "plt.plot(fpr[4], tpr[4], color='darkorange',\n",
    "         lw=lw, label='ROC curve (area = %0.2f)' % roc_auc[0])\n",
    "plt.plot([0, 1], [0, 1], color='navy', lw=lw, linestyle='--')\n",
    "plt.xlim([0.0, 1.0])\n",
    "plt.ylim([0.0, 1.05])\n",
    "plt.xlabel('False Positive Rate')\n",
    "plt.ylabel('True Positive Rate')\n",
    "plt.title('Receiver operating characteristic example')\n",
    "plt.legend(loc=\"lower right\")\n",
    "plt.show()"
   ]
  },
  {
   "cell_type": "code",
   "execution_count": 182,
   "metadata": {},
   "outputs": [
    {
     "data": {
      "image/png": "[encoded data removed]",
      "text/plain": [
       "<Figure size 432x288 with 1 Axes>"
      ]
     },
     "metadata": {
      "needs_background": "light"
     },
     "output_type": "display_data"
    }
   ],
   "source": [
    "# Compute micro-average ROC curve and ROC area\n",
    "fpr[\"micro\"], tpr[\"micro\"], _ = roc_curve(y_test.ravel(), y_score.ravel())\n",
    "roc_auc[\"micro\"] = auc(fpr[\"micro\"], tpr[\"micro\"])\n",
    "\n",
    "from scipy import interp\n",
    "from itertools import cycle\n",
    "\n",
    "# First aggregate all false positive rates\n",
    "all_fpr = np.unique(np.concatenate([fpr[i] for i in range(5)]))\n",
    "\n",
    "# Then interpolate all ROC curves at this points\n",
    "mean_tpr = np.zeros_like(all_fpr)\n",
    "for i in range(5):\n",
    "    mean_tpr += interp(all_fpr, fpr[i], tpr[i])\n",
    "\n",
    "# Finally average it and compute AUC\n",
    "mean_tpr /= 5\n",
    "\n",
    "fpr[\"macro\"] = all_fpr\n",
    "tpr[\"macro\"] = mean_tpr\n",
    "roc_auc[\"macro\"] = auc(fpr[\"macro\"], tpr[\"macro\"])\n",
    "\n",
    "# Plot all ROC curves\n",
    "plt.figure()\n",
    "plt.plot(fpr[\"micro\"], tpr[\"micro\"],\n",
    "         label='micro-average ROC curve (area = {0:0.2f})'\n",
    "               ''.format(roc_auc[\"micro\"]),\n",
    "         color='deeppink', linestyle=':', linewidth=4)\n",
    "\n",
    "plt.plot(fpr[\"macro\"], tpr[\"macro\"],\n",
    "         label='macro-average ROC curve (area = {0:0.2f})'\n",
    "               ''.format(roc_auc[\"macro\"]),\n",
    "         color='navy', linestyle=':', linewidth=4)\n",
    "\n",
    "colors = cycle(['aqua', 'darkorange', 'cornflowerblue'])\n",
    "for i, color in zip(range(5), colors):\n",
    "    plt.plot(fpr[i], tpr[i], color=color, lw=lw,\n",
    "             label='ROC curve of class {0} (area = {1:0.2f})'\n",
    "             ''.format(i, roc_auc[i]))\n",
    "\n",
    "plt.plot([0, 1], [0, 1], 'k--', lw=lw)\n",
    "plt.xlim([0.0, 1.0])\n",
    "plt.ylim([0.0, 1.05])\n",
    "plt.xlabel('False Positive Rate')\n",
    "plt.ylabel('True Positive Rate')\n",
    "plt.title('Some extension of Receiver operating characteristic to multi-class')\n",
    "plt.legend(loc=\"lower right\")\n",
    "plt.show()"
   ]
  },
  {
   "cell_type": "code",
   "execution_count": 183,
   "metadata": {},
   "outputs": [
    {
     "name": "stdout",
     "output_type": "stream",
     "text": [
      "Number of columns before drop 34\n",
      "Number of columns after drop 16\n",
      "Maximum sequence must be less than 60. In our case, it is 24\n",
      "(array([ 1,  2,  4,  6,  8, 14, 18, 22, 24]), array([196, 426,  68,   8,   1,   3,   2,   1,   2]))\n",
      "(707, 60, 195)\n",
      "Number of columns before drop 34\n",
      "Number of columns after drop 16\n",
      "Maximum sequence must be less than 60. In our case, it is 30\n",
      "(array([ 1,  2,  4,  6,  8, 10, 12, 14, 16, 18, 22, 24, 30]), array([250, 296,  65,   5,  23,  11,   7,   3,   4,   4,   2,   2,   1]))\n",
      "(673, 60, 195)\n",
      "Number of columns before drop 34\n",
      "Number of columns after drop 16\n",
      "Maximum sequence must be less than 60. In our case, it is 20\n",
      "(array([ 1,  2,  3,  4,  5,  6,  7,  8, 12, 14, 15, 18, 20]), array([301, 281,  17,  62,   4,  11,   1,   3,   1,   1,   3,   1,   1]))\n",
      "(707, 60, 195)\n",
      "Number of columns before drop 34\n",
      "Number of columns after drop 16\n",
      "Maximum sequence must be less than 60. In our case, it is 22\n",
      "(array([ 1,  2,  3,  4,  5,  6,  7,  9, 11, 13, 15, 21, 22]), array([315, 288,  26,  52,   7,   8,   1,   1,   2,   1,   1,   1,   1]))\n",
      "(707, 60, 195)\n"
     ]
    }
   ],
   "source": [
    "data=pd.read_csv(\"erroronevent2.csv\")\n",
    "data=data.drop(columns=\"Unnamed: 0\")\n",
    "\n",
    "print(\"Number of columns before drop \" + str(len(data.columns)))\n",
    "\n",
    "data.drop(columns=[ 'length','Type', 'timesensitive','client_min',\n",
    "       'client_max', 'client_resendMin', 'client_resendMax', 'errorRate',\n",
    "       'server_min', 'server_max', 'client_mac', 'client_ip',\n",
    "       'client_send_port', 'client_rec_port', 'server_mac', 'server_ip',\n",
    "       'server_send_port', 'server_rec_port'],inplace=True)\n",
    "\n",
    "print(\"Number of columns after drop \" + str(len(data.columns)))\n",
    "\n",
    "x,y=preprocess(data,0)\n",
    "\n",
    "#Max Length\n",
    "length=[]\n",
    "for i in range(len(x)):\n",
    "    length.append(x[i].shape[0])\n",
    "\n",
    "print(\"Maximum sequence must be less than 60. In our case, it is \" + str(max(length)))\n",
    "\n",
    "print(np.unique(np.array(length),return_counts=True))\n",
    "\n",
    "# Pad Sequences by 0 (Post padding)\n",
    "\n",
    "\n",
    "padded = tf.keras.preprocessing.sequence.pad_sequences(x, padding='post',maxlen=60)\n",
    "print(padded.shape)\n",
    "\n",
    "data=pd.read_csv(\"erroronerror2.csv\")\n",
    "data=data.drop(columns=\"Unnamed: 0\")\n",
    "\n",
    "print(\"Number of columns before drop \" + str(len(data.columns)))\n",
    "\n",
    "data.drop(columns=[ 'length','Type', 'timesensitive','client_min',\n",
    "       'client_max', 'client_resendMin', 'client_resendMax', 'errorRate',\n",
    "       'server_min', 'server_max', 'client_mac', 'client_ip',\n",
    "       'client_send_port', 'client_rec_port', 'server_mac', 'server_ip',\n",
    "       'server_send_port', 'server_rec_port'],inplace=True)\n",
    "\n",
    "print(\"Number of columns after drop \" + str(len(data.columns)))\n",
    "\n",
    "x_error,y_error=preprocess(data,1)\n",
    "\n",
    "#Max Length\n",
    "length=[]\n",
    "for i in range(len(x_error)):\n",
    "    length.append(x_error[i].shape[0])\n",
    "\n",
    "print(\"Maximum sequence must be less than 60. In our case, it is \" + str(max(length)))\n",
    "\n",
    "print(np.unique(np.array(length),return_counts=True))\n",
    "\n",
    "# Pad Sequences by 0 (Post padding)\n",
    "\n",
    "\n",
    "padded_error = tf.keras.preprocessing.sequence.pad_sequences(x_error, padding='post',maxlen=60)\n",
    "print(padded_error.shape)\n",
    "\n",
    "y_error=2*y_error\n",
    "\n",
    "data=pd.read_csv(\"missing_response2.csv\")\n",
    "data=data.drop(columns=\"Unnamed: 0\")\n",
    "\n",
    "print(\"Number of columns before drop \" + str(len(data.columns)))\n",
    "\n",
    "data.drop(columns=[ 'length','Type', 'timesensitive','client_min',\n",
    "       'client_max', 'client_resendMin', 'client_resendMax', 'errorRate',\n",
    "       'server_min', 'server_max', 'client_mac', 'client_ip',\n",
    "       'client_send_port', 'client_rec_port', 'server_mac', 'server_ip',\n",
    "       'server_send_port', 'server_rec_port'],inplace=True)\n",
    "\n",
    "print(\"Number of columns after drop \" + str(len(data.columns)))\n",
    "\n",
    "x_response,y_response=preprocess(data,0)\n",
    "\n",
    "#Max Length\n",
    "length=[]\n",
    "for i in range(len(x_response)):\n",
    "    length.append(x_response[i].shape[0])\n",
    "\n",
    "print(\"Maximum sequence must be less than 60. In our case, it is \" + str(max(length)))\n",
    "\n",
    "print(np.unique(np.array(length),return_counts=True))\n",
    "\n",
    "# Pad Sequences by 0 (Post padding)\n",
    "\n",
    "\n",
    "padded_response = tf.keras.preprocessing.sequence.pad_sequences(x_response, padding='post',maxlen=60)\n",
    "print(padded.shape)\n",
    "\n",
    "y_response=3*y_response\n",
    "\n",
    "\n",
    "data=pd.read_csv(\"missing_request4.csv\")\n",
    "data=data.drop(columns=\"Unnamed: 0\")\n",
    "\n",
    "print(\"Number of columns before drop \" + str(len(data.columns)))\n",
    "\n",
    "data.drop(columns=[ 'length','Type', 'timesensitive','client_min',\n",
    "       'client_max', 'client_resendMin', 'client_resendMax', 'errorRate',\n",
    "       'server_min', 'server_max', 'client_mac', 'client_ip',\n",
    "       'client_send_port', 'client_rec_port', 'server_mac', 'server_ip',\n",
    "       'server_send_port', 'server_rec_port'],inplace=True)\n",
    "\n",
    "print(\"Number of columns after drop \" + str(len(data.columns)))\n",
    "\n",
    "x_request,y_request=preprocess(data,0)\n",
    "\n",
    "#Max Length\n",
    "length=[]\n",
    "for i in range(len(x_request)):\n",
    "    length.append(x_request[i].shape[0])\n",
    "\n",
    "print(\"Maximum sequence must be less than 60. In our case, it is \" + str(max(length)))\n",
    "\n",
    "print(np.unique(np.array(length),return_counts=True))\n",
    "\n",
    "# Pad Sequences by 0 (Post padding)\n",
    "\n",
    "\n",
    "padded_request = tf.keras.preprocessing.sequence.pad_sequences(x_request, padding='post',maxlen=60)\n",
    "print(padded.shape)\n",
    "\n",
    "y_request=4*y_request\n"
   ]
  },
  {
   "cell_type": "code",
   "execution_count": 184,
   "metadata": {},
   "outputs": [
    {
     "name": "stdout",
     "output_type": "stream",
     "text": [
      "(2771, 60, 195)\n",
      "(2771, 1)\n"
     ]
    },
    {
     "name": "stderr",
     "output_type": "stream",
     "text": [
      "/home/alkhatib/.local/lib/python3.7/site-packages/sklearn/utils/validation.py:63: DataConversionWarning: A column-vector y was passed when a 1d array was expected. Please change the shape of y to (n_samples, ), for example using ravel().\n",
      "  return f(*args, **kwargs)\n"
     ]
    },
    {
     "name": "stdout",
     "output_type": "stream",
     "text": [
      "[2420    5   10   28    8   54    0    0    0    0    3    3   44    3\n",
      "    1    4    1    7   68    1    9   14    5    5   78]\n"
     ]
    },
    {
     "data": {
      "text/plain": [
       "<sklearn.metrics._plot.confusion_matrix.ConfusionMatrixDisplay at 0x7f0f9ef03748>"
      ]
     },
     "execution_count": 184,
     "metadata": {},
     "output_type": "execute_result"
    },
    {
     "data": {
      "image/png": "[encoded data removed]",
      "text/plain": [
       "<Figure size 432x288 with 2 Axes>"
      ]
     },
     "metadata": {
      "needs_background": "light"
     },
     "output_type": "display_data"
    }
   ],
   "source": [
    "X_test=np.concatenate((padded,padded_error,padded_response,padded_request))\n",
    "Y_testo=np.concatenate((y,y_error,y_response,y_request))\n",
    "\n",
    "print(X_test.shape)\n",
    "print(Y_testo.shape)\n",
    "\n",
    "encoder=LabelEncoder()\n",
    "encoder.fit(Y_testo)\n",
    "encoded_y=encoder.transform(Y_testo)\n",
    "Y_test=tf.keras.utils.to_categorical(encoded_y)\n",
    "\n",
    "l=[]\n",
    "for i in Y_test:\n",
    "    l.append(np.argmax(i))\n",
    "k=np.array(l)\n",
    "\n",
    "# Multiclass\n",
    "y_pred = model.predict_classes(X_test)\n",
    "cm=confusion_matrix(k, y_pred)\n",
    "\n",
    "print(cm.ravel())\n",
    "\n",
    "disp = ConfusionMatrixDisplay(confusion_matrix=cm)    \n",
    "disp.plot() "
   ]
  },
  {
   "cell_type": "code",
   "execution_count": 187,
   "metadata": {},
   "outputs": [
    {
     "data": {
      "image/png": "[encoded data removed]",
      "text/plain": [
       "<Figure size 432x288 with 1 Axes>"
      ]
     },
     "metadata": {
      "needs_background": "light"
     },
     "output_type": "display_data"
    },
    {
     "data": {
      "image/png": "[encoded data removed]",
      "text/plain": [
       "<Figure size 432x288 with 1 Axes>"
      ]
     },
     "metadata": {
      "needs_background": "light"
     },
     "output_type": "display_data"
    }
   ],
   "source": [
    "y_test=Y_test\n",
    "y_score=model.predict(X_test)\n",
    "\n",
    "from sklearn.metrics import roc_curve, auc\n",
    "\n",
    "# Compute ROC curve and ROC area for each class\n",
    "fpr = dict()\n",
    "tpr = dict()\n",
    "roc_auc = dict()\n",
    "for i in range(5):\n",
    "    fpr[i], tpr[i], _ = roc_curve(y_test[:, i], y_score[:, i])\n",
    "    roc_auc[i] = auc(fpr[i], tpr[i])\n",
    "\n",
    "plt.figure()\n",
    "lw = 2\n",
    "plt.plot(fpr[4], tpr[4], color='darkorange',\n",
    "         lw=lw, label='ROC curve (area = %0.2f)' % roc_auc[0])\n",
    "plt.plot([0, 1], [0, 1], color='navy', lw=lw, linestyle='--')\n",
    "plt.xlim([0.0, 1.0])\n",
    "plt.ylim([0.0, 1.05])\n",
    "plt.xlabel('False Positive Rate')\n",
    "plt.ylabel('True Positive Rate')\n",
    "plt.title('Receiver operating characteristic example')\n",
    "plt.legend(loc=\"lower right\")\n",
    "plt.show()\n",
    "\n",
    "# Compute micro-average ROC curve and ROC area\n",
    "fpr[\"micro\"], tpr[\"micro\"], _ = roc_curve(y_test.ravel(), y_score.ravel())\n",
    "roc_auc[\"micro\"] = auc(fpr[\"micro\"], tpr[\"micro\"])\n",
    "\n",
    "from scipy import interp\n",
    "from itertools import cycle\n",
    "\n",
    "# First aggregate all false positive rates\n",
    "all_fpr = np.unique(np.concatenate([fpr[i] for i in range(5)]))\n",
    "\n",
    "# Then interpolate all ROC curves at this points\n",
    "mean_tpr = np.zeros_like(all_fpr)\n",
    "for i in range(5):\n",
    "    mean_tpr += interp(all_fpr, fpr[i], tpr[i])\n",
    "\n",
    "# Finally average it and compute AUC\n",
    "mean_tpr /= 5\n",
    "\n",
    "fpr[\"macro\"] = all_fpr\n",
    "tpr[\"macro\"] = mean_tpr\n",
    "roc_auc[\"macro\"] = auc(fpr[\"macro\"], tpr[\"macro\"])\n",
    "\n",
    "# Plot all ROC curves\n",
    "plt.figure()\n",
    "plt.plot(fpr[\"micro\"], tpr[\"micro\"],\n",
    "         label='micro-average ROC curve (area = {0:0.2f})'\n",
    "               ''.format(roc_auc[\"micro\"]),\n",
    "         color='deeppink', linestyle=':', linewidth=4)\n",
    "\n",
    "plt.plot(fpr[\"macro\"], tpr[\"macro\"],\n",
    "         label='macro-average ROC curve (area = {0:0.2f})'\n",
    "               ''.format(roc_auc[\"macro\"]),\n",
    "         color='navy', linestyle=':', linewidth=4)\n",
    "\n",
    "colors = cycle(['aqua', 'darkorange', 'cornflowerblue','red','yellow'])\n",
    "for i, color in zip(range(5), colors):\n",
    "    plt.plot(fpr[i], tpr[i], color=color, lw=lw,\n",
    "             label='ROC curve of class {0} (area = {1:0.2f})'\n",
    "             ''.format(i, roc_auc[i]))\n",
    "\n",
    "plt.plot([0, 1], [0, 1], 'k--', lw=lw)\n",
    "plt.xlim([0.0, 1.0])\n",
    "plt.ylim([0.0, 1.05])\n",
    "plt.xlabel('False Positive Rate')\n",
    "plt.ylabel('True Positive Rate')\n",
    "plt.title('Some extension of Receiver operating characteristic to multi-class')\n",
    "plt.legend(loc=\"lower right\")\n",
    "plt.show()"
   ]
  },
  {
   "cell_type": "markdown",
   "metadata": {},
   "source": [
    "# Binary Classification"
   ]
  },
  {
   "cell_type": "code",
   "execution_count": 188,
   "metadata": {},
   "outputs": [
    {
     "name": "stdout",
     "output_type": "stream",
     "text": [
      "Number of columns before drop 34\n",
      "Number of columns after drop 16\n",
      "Maximum sequence must be less than 60. In our case, it is 18\n",
      "(array([ 1,  2,  4,  6,  8, 10, 12, 14, 18]), array([190, 431,  69,  10,   2,   1,   2,   5,   2]))\n",
      "(712, 60, 195)\n",
      "Number of columns before drop 34\n",
      "Number of columns after drop 16\n",
      "Maximum sequence must be less than 60. In our case, it is 52\n",
      "(array([ 1,  2,  4,  6,  8, 10, 12, 14, 16, 18, 20, 24, 34, 52]), array([250, 380,  31,   3,  17,   6,   8,   4,   1,   2,   2,   1,   1,\n",
      "         1]))\n",
      "(707, 60, 195)\n",
      "Number of columns before drop 34\n",
      "Number of columns after drop 16\n",
      "Maximum sequence must be less than 60. In our case, it is 25\n",
      "(array([ 1,  2,  3,  4,  5,  6,  7,  8,  9, 10, 12, 14, 18, 19, 25]), array([324, 306,  10,  49,   4,   6,   1,   1,   1,   1,   1,   2,   1,\n",
      "         1,   1]))\n",
      "(712, 60, 195)\n",
      "Number of columns before drop 34\n",
      "Number of columns after drop 16\n",
      "Maximum sequence must be less than 60. In our case, it is 27\n",
      "(array([ 1,  2,  3,  4,  5,  6,  7,  8, 14, 16, 17, 25, 27]), array([294, 274,  23,  66,   5,  10,   1,   1,   1,   1,   1,   1,   1]))\n",
      "(712, 60, 195)\n"
     ]
    }
   ],
   "source": [
    "data=pd.read_csv(\"erroronevent1.csv\")\n",
    "data=data.drop(columns=\"Unnamed: 0\")\n",
    "\n",
    "print(\"Number of columns before drop \" + str(len(data.columns)))\n",
    "\n",
    "data.drop(columns=[ 'length','Type', 'timesensitive','client_min',\n",
    "       'client_max', 'client_resendMin', 'client_resendMax', 'errorRate',\n",
    "       'server_min', 'server_max', 'client_mac', 'client_ip',\n",
    "       'client_send_port', 'client_rec_port', 'server_mac', 'server_ip',\n",
    "       'server_send_port', 'server_rec_port'],inplace=True)\n",
    "\n",
    "print(\"Number of columns after drop \" + str(len(data.columns)))\n",
    "\n",
    "x,y=preprocess(data,0)\n",
    "\n",
    "#Max Length\n",
    "length=[]\n",
    "for i in range(len(x)):\n",
    "    length.append(x[i].shape[0])\n",
    "\n",
    "print(\"Maximum sequence must be less than 60. In our case, it is \" + str(max(length)))\n",
    "\n",
    "print(np.unique(np.array(length),return_counts=True))\n",
    "\n",
    "# Pad Sequences by 0 (Post padding)\n",
    "\n",
    "\n",
    "padded = tf.keras.preprocessing.sequence.pad_sequences(x, padding='post',maxlen=60)\n",
    "print(padded.shape)\n",
    "\n",
    "data=pd.read_csv(\"erroronerror1.csv\")\n",
    "data=data.drop(columns=\"Unnamed: 0\")\n",
    "\n",
    "print(\"Number of columns before drop \" + str(len(data.columns)))\n",
    "\n",
    "data.drop(columns=[ 'length','Type', 'timesensitive','client_min',\n",
    "       'client_max', 'client_resendMin', 'client_resendMax', 'errorRate',\n",
    "       'server_min', 'server_max', 'client_mac', 'client_ip',\n",
    "       'client_send_port', 'client_rec_port', 'server_mac', 'server_ip',\n",
    "       'server_send_port', 'server_rec_port'],inplace=True)\n",
    "\n",
    "print(\"Number of columns after drop \" + str(len(data.columns)))\n",
    "\n",
    "x_error,y_error=preprocess(data,1)\n",
    "\n",
    "#Max Length\n",
    "length=[]\n",
    "for i in range(len(x_error)):\n",
    "    length.append(x_error[i].shape[0])\n",
    "\n",
    "print(\"Maximum sequence must be less than 60. In our case, it is \" + str(max(length)))\n",
    "\n",
    "print(np.unique(np.array(length),return_counts=True))\n",
    "\n",
    "# Pad Sequences by 0 (Post padding)\n",
    "\n",
    "\n",
    "padded_error = tf.keras.preprocessing.sequence.pad_sequences(x_error, padding='post',maxlen=60)\n",
    "print(padded_error.shape)\n",
    "\n",
    "#y_error=2*y_error\n",
    "\n",
    "data=pd.read_csv(\"missing_response1.csv\")\n",
    "data=data.drop(columns=\"Unnamed: 0\")\n",
    "\n",
    "print(\"Number of columns before drop \" + str(len(data.columns)))\n",
    "\n",
    "data.drop(columns=[ 'length','Type', 'timesensitive','client_min',\n",
    "       'client_max', 'client_resendMin', 'client_resendMax', 'errorRate',\n",
    "       'server_min', 'server_max', 'client_mac', 'client_ip',\n",
    "       'client_send_port', 'client_rec_port', 'server_mac', 'server_ip',\n",
    "       'server_send_port', 'server_rec_port'],inplace=True)\n",
    "\n",
    "print(\"Number of columns after drop \" + str(len(data.columns)))\n",
    "\n",
    "x_response,y_response=preprocess(data,0)\n",
    "\n",
    "#Max Length\n",
    "length=[]\n",
    "for i in range(len(x_response)):\n",
    "    length.append(x_response[i].shape[0])\n",
    "\n",
    "print(\"Maximum sequence must be less than 60. In our case, it is \" + str(max(length)))\n",
    "\n",
    "print(np.unique(np.array(length),return_counts=True))\n",
    "\n",
    "# Pad Sequences by 0 (Post padding)\n",
    "\n",
    "\n",
    "padded_response = tf.keras.preprocessing.sequence.pad_sequences(x_response, padding='post',maxlen=60)\n",
    "print(padded.shape)\n",
    "\n",
    "#y_response=3*y_response\n",
    "\n",
    "\n",
    "data=pd.read_csv(\"missing_request3.csv\")\n",
    "data=data.drop(columns=\"Unnamed: 0\")\n",
    "\n",
    "print(\"Number of columns before drop \" + str(len(data.columns)))\n",
    "\n",
    "data.drop(columns=[ 'length','Type', 'timesensitive','client_min',\n",
    "       'client_max', 'client_resendMin', 'client_resendMax', 'errorRate',\n",
    "       'server_min', 'server_max', 'client_mac', 'client_ip',\n",
    "       'client_send_port', 'client_rec_port', 'server_mac', 'server_ip',\n",
    "       'server_send_port', 'server_rec_port'],inplace=True)\n",
    "\n",
    "print(\"Number of columns after drop \" + str(len(data.columns)))\n",
    "\n",
    "x_request,y_request=preprocess(data,0)\n",
    "\n",
    "#Max Length\n",
    "length=[]\n",
    "for i in range(len(x_request)):\n",
    "    length.append(x_request[i].shape[0])\n",
    "\n",
    "print(\"Maximum sequence must be less than 60. In our case, it is \" + str(max(length)))\n",
    "\n",
    "print(np.unique(np.array(length),return_counts=True))\n",
    "\n",
    "# Pad Sequences by 0 (Post padding)\n",
    "\n",
    "\n",
    "padded_request = tf.keras.preprocessing.sequence.pad_sequences(x_request, padding='post',maxlen=60)\n",
    "print(padded.shape)\n",
    "\n",
    "#y_request=4*y_request\n"
   ]
  },
  {
   "cell_type": "code",
   "execution_count": 189,
   "metadata": {},
   "outputs": [],
   "source": [
    "X_total=np.concatenate((padded,padded_error,padded_response,padded_request))\n",
    "Y_total=np.concatenate((y,y_error,y_response,y_request))"
   ]
  },
  {
   "cell_type": "code",
   "execution_count": 190,
   "metadata": {},
   "outputs": [
    {
     "name": "stdout",
     "output_type": "stream",
     "text": [
      "Weight for class 0: 0.55\n",
      "Weight for class 1: 5.11\n",
      "Train on 1880 samples, validate on 927 samples\n",
      "Epoch 1/10\n",
      "1880/1880 [==============================] - 6s 3ms/sample - loss: 0.6626 - acc: 0.6532 - val_loss: 0.5312 - val_acc: 0.8425\n",
      "Epoch 2/10\n",
      "1880/1880 [==============================] - 0s 232us/sample - loss: 0.5945 - acc: 0.8766 - val_loss: 0.5471 - val_acc: 0.8393\n",
      "Epoch 3/10\n",
      "1880/1880 [==============================] - 0s 261us/sample - loss: 0.4869 - acc: 0.9117 - val_loss: 0.3547 - val_acc: 0.9407\n",
      "Epoch 4/10\n",
      "1880/1880 [==============================] - 0s 265us/sample - loss: 0.3523 - acc: 0.9335 - val_loss: 0.2835 - val_acc: 0.9126\n",
      "Epoch 5/10\n",
      "1880/1880 [==============================] - 1s 269us/sample - loss: 0.2604 - acc: 0.9410 - val_loss: 0.1805 - val_acc: 0.9525\n",
      "Epoch 6/10\n",
      "1880/1880 [==============================] - 0s 243us/sample - loss: 0.2030 - acc: 0.9559 - val_loss: 0.1645 - val_acc: 0.9450\n",
      "Epoch 7/10\n",
      "1880/1880 [==============================] - 0s 236us/sample - loss: 0.1486 - acc: 0.9739 - val_loss: 0.1295 - val_acc: 0.9655\n",
      "Epoch 8/10\n",
      "1880/1880 [==============================] - 0s 249us/sample - loss: 0.1181 - acc: 0.9777 - val_loss: 0.0957 - val_acc: 0.9806\n",
      "Epoch 9/10\n",
      "1880/1880 [==============================] - 0s 246us/sample - loss: 0.0987 - acc: 0.9856 - val_loss: 0.0977 - val_acc: 0.9752\n",
      "Epoch 10/10\n",
      "1880/1880 [==============================] - 0s 258us/sample - loss: 0.0806 - acc: 0.9888 - val_loss: 0.0806 - val_acc: 0.9817\n",
      "927/927 [==============================] - 0s 218us/sample - loss: 0.0806 - acc: 0.9817\n",
      "acc: 98.17%\n",
      "[824  13   4  86]\n"
     ]
    },
    {
     "data": {
      "text/plain": [
       "<sklearn.metrics._plot.confusion_matrix.ConfusionMatrixDisplay at 0x7f0fb81f22b0>"
      ]
     },
     "execution_count": 190,
     "metadata": {},
     "output_type": "execute_result"
    },
    {
     "data": {
      "image/png": "[encoded data removed]",
      "text/plain": [
       "<Figure size 432x288 with 2 Axes>"
      ]
     },
     "metadata": {
      "needs_background": "light"
     },
     "output_type": "display_data"
    }
   ],
   "source": [
    "#Split Data \n",
    "X_train, X_test, y_train, y_test = train_test_split(X_total, Y_total, test_size=0.33, random_state=42,stratify=Y_total)\n",
    "\n",
    "\n",
    "# Class Weight for Data Imbalancing\n",
    "neg = len(y_train[y_train==0])\n",
    "pos= len(y_train[y_train!=0])\n",
    "total=len(y_train)\n",
    "\n",
    "weight_for_0 = (1 / neg) * (total / 2.0)\n",
    "weight_for_1 = (1 / pos) * (total / 2.0)\n",
    "\n",
    "class_weight = {0: weight_for_0, 1: weight_for_1}\n",
    "\n",
    "print('Weight for class 0: {:.2f}'.format(weight_for_0))\n",
    "print('Weight for class 1: {:.2f}'.format(weight_for_1))\n",
    "\n",
    "\n",
    "\n",
    "\n",
    "\n",
    "# Deep Learning \n",
    "model= tf.keras.Sequential([tf.keras.layers.SimpleRNN(20,return_sequences=True,input_shape=[X_train.shape[1],X_train.shape[2]]),\n",
    "           tf.keras.layers.SimpleRNN(10),tf.keras.layers.Dense(1, activation='sigmoid')])\n",
    "\n",
    "model.compile(loss='binary_crossentropy',optimizer='adam',metrics=['accuracy'])\n",
    "# Fit the model\n",
    "\n",
    "\n",
    "# simple early stopping\n",
    "#es = EarlyStopping(monitor='val_loss', mode='min', verbose=1, patience=10)\n",
    "#mc = ModelCheckpoint('LSTM.h5', monitor='val_accuracy', mode='max', verbose=1, save_best_only=True)\n",
    "\n",
    "\n",
    "history=model.fit(X_train, y_train, epochs=10,batch_size=100,validation_data=(X_test, y_test),class_weight=class_weight)\n",
    "# evaluate the model\n",
    "#saved_model = load_model('best_model.h5')\n",
    "\n",
    "scores = model.evaluate(X_test, y_test)\n",
    "print(\"%s: %.2f%%\" % (model.metrics_names[1], scores[1]*100))\n",
    "\n",
    "y_pred = model.predict_classes(X_test)\n",
    "cm=confusion_matrix(y_test, y_pred)\n",
    "\n",
    "tn, fp, fn, tp = cm.ravel()\n",
    "\n",
    "\n",
    "print(cm.ravel())\n",
    "\n",
    "disp = ConfusionMatrixDisplay(confusion_matrix=cm)    \n",
    "disp.plot() "
   ]
  },
  {
   "cell_type": "code",
   "execution_count": 191,
   "metadata": {},
   "outputs": [
    {
     "name": "stdout",
     "output_type": "stream",
     "text": [
      "Train on 1880 samples, validate on 927 samples\n",
      "Epoch 1/10\n",
      "1880/1880 [==============================] - 8s 4ms/sample - loss: 0.6933 - acc: 0.8936 - val_loss: 0.6920 - val_acc: 0.9029\n",
      "Epoch 2/10\n",
      "1880/1880 [==============================] - 1s 529us/sample - loss: 0.6930 - acc: 0.9032 - val_loss: 0.6924 - val_acc: 0.9040\n",
      "Epoch 3/10\n",
      "1880/1880 [==============================] - 1s 541us/sample - loss: 0.6925 - acc: 0.9048 - val_loss: 0.6867 - val_acc: 0.9040\n",
      "Epoch 4/10\n",
      "1880/1880 [==============================] - 1s 530us/sample - loss: 0.6894 - acc: 0.3761 - val_loss: 0.7183 - val_acc: 0.0971\n",
      "Epoch 5/10\n",
      "1880/1880 [==============================] - 1s 547us/sample - loss: 0.6588 - acc: 0.6676 - val_loss: 0.6823 - val_acc: 0.8436\n",
      "Epoch 6/10\n",
      "1880/1880 [==============================] - 1s 533us/sample - loss: 0.6386 - acc: 0.8846 - val_loss: 0.6083 - val_acc: 0.8749\n",
      "Epoch 7/10\n",
      "1880/1880 [==============================] - 1s 542us/sample - loss: 0.6292 - acc: 0.8926 - val_loss: 0.6686 - val_acc: 0.8695\n",
      "Epoch 8/10\n",
      "1880/1880 [==============================] - 1s 550us/sample - loss: 0.5668 - acc: 0.8872 - val_loss: 0.5344 - val_acc: 0.9061\n",
      "Epoch 9/10\n",
      "1880/1880 [==============================] - 1s 546us/sample - loss: 0.5187 - acc: 0.9101 - val_loss: 0.5255 - val_acc: 0.8986\n",
      "Epoch 10/10\n",
      "1880/1880 [==============================] - 1s 564us/sample - loss: 0.4860 - acc: 0.9202 - val_loss: 0.4214 - val_acc: 0.9213\n",
      "927/927 [==============================] - 0s 352us/sample - loss: 0.4214 - acc: 0.9213\n",
      "acc: 92.13%\n",
      "[817  20  53  37]\n"
     ]
    },
    {
     "data": {
      "text/plain": [
       "<sklearn.metrics._plot.confusion_matrix.ConfusionMatrixDisplay at 0x7f0f9e0f3f28>"
      ]
     },
     "execution_count": 191,
     "metadata": {},
     "output_type": "execute_result"
    },
    {
     "data": {
      "image/png": "[encoded data removed]",
      "text/plain": [
       "<Figure size 432x288 with 2 Axes>"
      ]
     },
     "metadata": {
      "needs_background": "light"
     },
     "output_type": "display_data"
    }
   ],
   "source": [
    "# Deep Learning \n",
    "model= tf.keras.Sequential([tf.keras.layers.LSTM(20,return_sequences=True,input_shape=[X_train.shape[1],X_train.shape[2]]),\n",
    "           tf.keras.layers.LSTM(10),tf.keras.layers.Dense(1, activation='sigmoid')])\n",
    "\n",
    "model.compile(loss='binary_crossentropy',optimizer='adam',metrics=['accuracy'])\n",
    "# Fit the model\n",
    "\n",
    "\n",
    "# simple early stopping\n",
    "#es = EarlyStopping(monitor='val_loss', mode='min', verbose=1, patience=10)\n",
    "#mc = ModelCheckpoint('LSTM.h5', monitor='val_accuracy', mode='max', verbose=1, save_best_only=True)\n",
    "\n",
    "\n",
    "history=model.fit(X_train, y_train, epochs=10,batch_size=100,validation_data=(X_test, y_test),class_weight=class_weight)\n",
    "# evaluate the model\n",
    "#saved_model = load_model('best_model.h5')\n",
    "\n",
    "scores = model.evaluate(X_test, y_test)\n",
    "print(\"%s: %.2f%%\" % (model.metrics_names[1], scores[1]*100))\n",
    "\n",
    "y_pred = model.predict_classes(X_test)\n",
    "cm=confusion_matrix(y_test, y_pred)\n",
    "\n",
    "tn, fp, fn, tp = cm.ravel()\n",
    "\n",
    "\n",
    "print(cm.ravel())\n",
    "\n",
    "disp = ConfusionMatrixDisplay(confusion_matrix=cm)    \n",
    "disp.plot() "
   ]
  },
  {
   "cell_type": "code",
   "execution_count": null,
   "metadata": {},
   "outputs": [],
   "source": []
  }
 ],
 "metadata": {
  "kernelspec": {
   "display_name": "Python 3",
   "language": "python",
   "name": "python3"
  },
  "language_info": {
   "codemirror_mode": {
    "name": "ipython",
    "version": 3
   },
   "file_extension": ".py",
   "mimetype": "text/x-python",
   "name": "python",
   "nbconvert_exporter": "python",
   "pygments_lexer": "ipython3",
   "version": "3.7.3"
  }
 },
 "nbformat": 4,
 "nbformat_minor": 2
}
